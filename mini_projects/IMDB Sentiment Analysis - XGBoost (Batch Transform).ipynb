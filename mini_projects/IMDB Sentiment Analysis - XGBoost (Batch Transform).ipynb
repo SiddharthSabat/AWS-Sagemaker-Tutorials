{
 "cells": [
  {
   "cell_type": "markdown",
   "metadata": {},
   "source": [
    "# Sentiment Analysis\n",
    "\n",
    "## Using XGBoost in SageMaker\n",
    "\n",
    "_Deep Learning Nanodegree Program | Deployment_\n",
    "\n",
    "---\n",
    "\n",
    "As our first example of using Amazon's SageMaker service we will construct a random tree model to predict the sentiment of a movie review. You may have seen a version of this example in a pervious lesson although it would have been done using the sklearn package. Instead, we will be using the XGBoost package as it is provided to us by Amazon.\n",
    "\n",
    "## Instructions\n",
    "\n",
    "Some template code has already been provided for you, and you will need to implement additional functionality to successfully complete this notebook. You will not need to modify the included code beyond what is requested. Sections that begin with '**TODO**' in the header indicate that you need to complete or implement some portion within them. Instructions will be provided for each section and the specifics of the implementation are marked in the code block with a `# TODO: ...` comment. Please be sure to read the instructions carefully!\n",
    "\n",
    "In addition to implementing code, there may be questions for you to answer which relate to the task and your implementation. Each section where you will answer a question is preceded by a '**Question:**' header. Carefully read each question and provide your answer below the '**Answer:**' header by editing the Markdown cell.\n",
    "\n",
    "> **Note**: Code and Markdown cells can be executed using the **Shift+Enter** keyboard shortcut. In addition, a cell can be edited by typically clicking it (double-click for Markdown cells) or by pressing **Enter** while it is highlighted."
   ]
  },
  {
   "cell_type": "code",
   "execution_count": 1,
   "metadata": {},
   "outputs": [
    {
     "name": "stdout",
     "output_type": "stream",
     "text": [
      "Requirement already satisfied: sagemaker==1.72.0 in /home/ec2-user/anaconda3/envs/python3/lib/python3.6/site-packages (1.72.0)\n",
      "Requirement already satisfied: protobuf>=3.1 in /home/ec2-user/anaconda3/envs/python3/lib/python3.6/site-packages (from sagemaker==1.72.0) (3.15.2)\n",
      "Requirement already satisfied: numpy>=1.9.0 in /home/ec2-user/anaconda3/envs/python3/lib/python3.6/site-packages (from sagemaker==1.72.0) (1.19.5)\n",
      "Requirement already satisfied: packaging>=20.0 in /home/ec2-user/anaconda3/envs/python3/lib/python3.6/site-packages (from sagemaker==1.72.0) (20.9)\n",
      "Requirement already satisfied: importlib-metadata>=1.4.0 in /home/ec2-user/anaconda3/envs/python3/lib/python3.6/site-packages (from sagemaker==1.72.0) (3.7.0)\n",
      "Requirement already satisfied: protobuf3-to-dict>=0.1.5 in /home/ec2-user/anaconda3/envs/python3/lib/python3.6/site-packages (from sagemaker==1.72.0) (0.1.5)\n",
      "Requirement already satisfied: boto3>=1.14.12 in /home/ec2-user/anaconda3/envs/python3/lib/python3.6/site-packages (from sagemaker==1.72.0) (1.17.100)\n",
      "Requirement already satisfied: scipy>=0.19.0 in /home/ec2-user/anaconda3/envs/python3/lib/python3.6/site-packages (from sagemaker==1.72.0) (1.5.3)\n",
      "Requirement already satisfied: smdebug-rulesconfig==0.1.4 in /home/ec2-user/anaconda3/envs/python3/lib/python3.6/site-packages (from sagemaker==1.72.0) (0.1.4)\n",
      "Requirement already satisfied: jmespath<1.0.0,>=0.7.1 in /home/ec2-user/anaconda3/envs/python3/lib/python3.6/site-packages (from boto3>=1.14.12->sagemaker==1.72.0) (0.10.0)\n",
      "Requirement already satisfied: botocore<1.21.0,>=1.20.100 in /home/ec2-user/anaconda3/envs/python3/lib/python3.6/site-packages (from boto3>=1.14.12->sagemaker==1.72.0) (1.20.100)\n",
      "Requirement already satisfied: s3transfer<0.5.0,>=0.4.0 in /home/ec2-user/anaconda3/envs/python3/lib/python3.6/site-packages (from boto3>=1.14.12->sagemaker==1.72.0) (0.4.2)\n",
      "Requirement already satisfied: python-dateutil<3.0.0,>=2.1 in /home/ec2-user/anaconda3/envs/python3/lib/python3.6/site-packages (from botocore<1.21.0,>=1.20.100->boto3>=1.14.12->sagemaker==1.72.0) (2.8.1)\n",
      "Requirement already satisfied: urllib3<1.27,>=1.25.4 in /home/ec2-user/anaconda3/envs/python3/lib/python3.6/site-packages (from botocore<1.21.0,>=1.20.100->boto3>=1.14.12->sagemaker==1.72.0) (1.26.5)\n",
      "Requirement already satisfied: typing-extensions>=3.6.4 in /home/ec2-user/anaconda3/envs/python3/lib/python3.6/site-packages (from importlib-metadata>=1.4.0->sagemaker==1.72.0) (3.7.4.3)\n",
      "Requirement already satisfied: zipp>=0.5 in /home/ec2-user/anaconda3/envs/python3/lib/python3.6/site-packages (from importlib-metadata>=1.4.0->sagemaker==1.72.0) (3.4.0)\n",
      "Requirement already satisfied: pyparsing>=2.0.2 in /home/ec2-user/anaconda3/envs/python3/lib/python3.6/site-packages (from packaging>=20.0->sagemaker==1.72.0) (2.4.7)\n",
      "Requirement already satisfied: six>=1.9 in /home/ec2-user/anaconda3/envs/python3/lib/python3.6/site-packages (from protobuf>=3.1->sagemaker==1.72.0) (1.15.0)\n",
      "\u001b[33mWARNING: You are using pip version 21.1.2; however, version 21.2.3 is available.\n",
      "You should consider upgrading via the '/home/ec2-user/anaconda3/envs/python3/bin/python -m pip install --upgrade pip' command.\u001b[0m\n"
     ]
    }
   ],
   "source": [
    "# Make sure that we use SageMaker 1.x\n",
    "!pip install sagemaker==1.72.0"
   ]
  },
  {
   "cell_type": "markdown",
   "metadata": {},
   "source": [
    "## Step 1: Downloading the data\n",
    "\n",
    "The dataset we are going to use is very popular among researchers in Natural Language Processing, usually referred to as the [IMDb dataset](http://ai.stanford.edu/~amaas/data/sentiment/). It consists of movie reviews from the website [imdb.com](http://www.imdb.com/), each labeled as either '**pos**itive', if the reviewer enjoyed the film, or '**neg**ative' otherwise.\n",
    "\n",
    "> Maas, Andrew L., et al. [Learning Word Vectors for Sentiment Analysis](http://ai.stanford.edu/~amaas/data/sentiment/). In _Proceedings of the 49th Annual Meeting of the Association for Computational Linguistics: Human Language Technologies_. Association for Computational Linguistics, 2011.\n",
    "\n",
    "We begin by using some Jupyter Notebook magic to download and extract the dataset."
   ]
  },
  {
   "cell_type": "code",
   "execution_count": 2,
   "metadata": {},
   "outputs": [
    {
     "name": "stdout",
     "output_type": "stream",
     "text": [
      "mkdir: cannot create directory ‘../data’: File exists\n",
      "--2021-08-12 09:28:15--  http://ai.stanford.edu/~amaas/data/sentiment/aclImdb_v1.tar.gz\n",
      "Resolving ai.stanford.edu (ai.stanford.edu)... 171.64.68.10\n",
      "Connecting to ai.stanford.edu (ai.stanford.edu)|171.64.68.10|:80... connected.\n",
      "HTTP request sent, awaiting response... 200 OK\n",
      "Length: 84125825 (80M) [application/x-gzip]\n",
      "Saving to: ‘../data/aclImdb_v1.tar.gz’\n",
      "\n",
      "../data/aclImdb_v1. 100%[===================>]  80.23M  23.3MB/s    in 5.0s    \n",
      "\n",
      "2021-08-12 09:28:21 (16.1 MB/s) - ‘../data/aclImdb_v1.tar.gz’ saved [84125825/84125825]\n",
      "\n"
     ]
    }
   ],
   "source": [
    "%mkdir ../data\n",
    "!wget -O ../data/aclImdb_v1.tar.gz http://ai.stanford.edu/~amaas/data/sentiment/aclImdb_v1.tar.gz\n",
    "!tar -zxf ../data/aclImdb_v1.tar.gz -C ../data"
   ]
  },
  {
   "cell_type": "markdown",
   "metadata": {},
   "source": [
    "## Step 2: Preparing the data\n",
    "\n",
    "The data we have downloaded is split into various files, each of which contains a single review. It will be much easier going forward if we combine these individual files into two large files, one for training and one for testing."
   ]
  },
  {
   "cell_type": "code",
   "execution_count": 3,
   "metadata": {},
   "outputs": [],
   "source": [
    "import os\n",
    "import glob\n",
    "\n",
    "def read_imdb_data(data_dir='../data/aclImdb'):\n",
    "    data = {}\n",
    "    labels = {}\n",
    "    \n",
    "    for data_type in ['train', 'test']:\n",
    "        data[data_type] = {}\n",
    "        labels[data_type] = {}\n",
    "        \n",
    "        for sentiment in ['pos', 'neg']:\n",
    "            data[data_type][sentiment] = []\n",
    "            labels[data_type][sentiment] = []\n",
    "            \n",
    "            path = os.path.join(data_dir, data_type, sentiment, '*.txt')\n",
    "            files = glob.glob(path)\n",
    "            \n",
    "            for f in files:\n",
    "                with open(f) as review:\n",
    "                    data[data_type][sentiment].append(review.read())\n",
    "                    # Here we represent a positive review by '1' and a negative review by '0'\n",
    "                    labels[data_type][sentiment].append(1 if sentiment == 'pos' else 0)\n",
    "                    \n",
    "            assert len(data[data_type][sentiment]) == len(labels[data_type][sentiment]), \\\n",
    "                    \"{}/{} data size does not match labels size\".format(data_type, sentiment)\n",
    "                \n",
    "    return data, labels"
   ]
  },
  {
   "cell_type": "code",
   "execution_count": 4,
   "metadata": {},
   "outputs": [
    {
     "name": "stdout",
     "output_type": "stream",
     "text": [
      "IMDB reviews: train = 12500 pos / 12500 neg, test = 12500 pos / 12500 neg\n"
     ]
    }
   ],
   "source": [
    "data, labels = read_imdb_data()\n",
    "print(\"IMDB reviews: train = {} pos / {} neg, test = {} pos / {} neg\".format(\n",
    "            len(data['train']['pos']), len(data['train']['neg']),\n",
    "            len(data['test']['pos']), len(data['test']['neg'])))"
   ]
  },
  {
   "cell_type": "code",
   "execution_count": 5,
   "metadata": {},
   "outputs": [],
   "source": [
    "from sklearn.utils import shuffle\n",
    "\n",
    "def prepare_imdb_data(data, labels):\n",
    "    \"\"\"Prepare training and test sets from IMDb movie reviews.\"\"\"\n",
    "    \n",
    "    #Combine positive and negative reviews and labels\n",
    "    data_train = data['train']['pos'] + data['train']['neg']\n",
    "    data_test = data['test']['pos'] + data['test']['neg']\n",
    "    labels_train = labels['train']['pos'] + labels['train']['neg']\n",
    "    labels_test = labels['test']['pos'] + labels['test']['neg']\n",
    "    \n",
    "    #Shuffle reviews and corresponding labels within training and test sets\n",
    "    data_train, labels_train = shuffle(data_train, labels_train)\n",
    "    data_test, labels_test = shuffle(data_test, labels_test)\n",
    "    \n",
    "    # Return a unified training data, test data, training labels, test labets\n",
    "    return data_train, data_test, labels_train, labels_test"
   ]
  },
  {
   "cell_type": "code",
   "execution_count": 6,
   "metadata": {},
   "outputs": [
    {
     "name": "stdout",
     "output_type": "stream",
     "text": [
      "IMDb reviews (combined): train = 25000, test = 25000\n"
     ]
    }
   ],
   "source": [
    "train_X, test_X, train_y, test_y = prepare_imdb_data(data, labels)\n",
    "print(\"IMDb reviews (combined): train = {}, test = {}\".format(len(train_X), len(test_X)))"
   ]
  },
  {
   "cell_type": "code",
   "execution_count": 7,
   "metadata": {},
   "outputs": [
    {
     "data": {
      "text/plain": [
       "'Let me start by saying that I\\'d read a number of reviews before renting this film and kind of knew what to expect. Still, I was surprised by just how bad it was. <br /><br />I am a big werewolf fan, and have grown accustomed to forgiving a great deal when watching one. Most of them have sub-par effects, poor acting, and weak storylines (at best rehashed from earlier films). So far, with the possible exception of some of the later \"Howling\" series films, this is the worst of the lot.<br /><br />First, the story. It\\'s been quoted several times in reviews on this site, so I won\\'t go into specifics. However, it is very obvious that the writer(s) had absolutely no affinity for lycanthropic monsters. As so often happens when a horror film is given to a writer who considers themselves \"above\" such fare, they tried to come up with a new spin on the werewolf mythos. That\\'s fine, but a non-horror fan trying to do this generally has disregard for the intelligence and sophistication of the horror audience and ends up writing down to them. The plot feels like a parody of werewolf films, and the events depicted just ring so false that I felt my intelligence was being seriously insulted. TV news footage, for example, never pans away from the reporter to close-up on someone in the crowd behind them. Give the characters and the viewers credit for being able to spot the bad guy in the scene without using a flashing neon sign. And that\\'s just the tip of the iceberg.<br /><br />As for effects, I have NEVER seen a less believable werewolf. I\\'d have been happier with Lon Chaney Jr. in crepe hair. The beast they used look a great deal like... well, like a guy in a cheap rubber suit with some hair glued on and some truly awful animatronics. And, I know that many people have already criticized the CG, but my God it was awful. One scene features a woman changing, and starts with a completely CG version of the actress, nude but for some reason without nipples. My first thought was, \"hey, why is one of the characters from \\'ReBoot\\' turning into a silly looking werewolf?\"<br /><br />Anyway, I like to look for positives in any film, and there were a few. The cinematography was passable (the film was shot all-digital, which is interesting) and some of the performances were not terrible. It was also interesting seeing Tippi Hedron as the world\\'s most well made-up homeless woman, and Kane Hodder as the title bad guy. Also, the Yellow Power Ranger got all growed up and... well, damn. And if you\\'re looking for skin, there\\'s some pretty tasty examples. This ends the male-pig segment of the review.<br /><br />Overall, if you want a good werewolf film, try \"An American Werewolf in London\", the original \"The Howling\", \"Dog Soldiers\", or even \"The Wolfen\" (though that one\\'s got more wolf than were). If you\\'re a lycanthrope completest, then take a gander. Otherwise, give this one a miss.'"
      ]
     },
     "execution_count": 7,
     "metadata": {},
     "output_type": "execute_result"
    }
   ],
   "source": [
    "train_X[100]"
   ]
  },
  {
   "cell_type": "markdown",
   "metadata": {},
   "source": [
    "## Step 3: Processing the data\n",
    "\n",
    "Now that we have our training and testing datasets merged and ready to use, we need to start processing the raw data into something that will be useable by our machine learning algorithm. To begin with, we remove any html formatting that may appear in the reviews and perform some standard natural language processing in order to homogenize the data."
   ]
  },
  {
   "cell_type": "code",
   "execution_count": 8,
   "metadata": {},
   "outputs": [
    {
     "name": "stderr",
     "output_type": "stream",
     "text": [
      "[nltk_data] Downloading package stopwords to\n",
      "[nltk_data]     /home/ec2-user/nltk_data...\n",
      "[nltk_data]   Package stopwords is already up-to-date!\n"
     ]
    }
   ],
   "source": [
    "import nltk\n",
    "nltk.download(\"stopwords\")\n",
    "from nltk.corpus import stopwords\n",
    "from nltk.stem.porter import *\n",
    "stemmer = PorterStemmer()"
   ]
  },
  {
   "cell_type": "code",
   "execution_count": 9,
   "metadata": {},
   "outputs": [],
   "source": [
    "import re\n",
    "from bs4 import BeautifulSoup\n",
    "\n",
    "def review_to_words(review):\n",
    "    text = BeautifulSoup(review, \"html.parser\").get_text() # Remove HTML tags\n",
    "    text = re.sub(r\"[^a-zA-Z0-9]\", \" \", text.lower()) # Convert to lower case\n",
    "    words = text.split() # Split string into words\n",
    "    words = [w for w in words if w not in stopwords.words(\"english\")] # Remove stopwords\n",
    "    words = [PorterStemmer().stem(w) for w in words] # stem\n",
    "    \n",
    "    return words"
   ]
  },
  {
   "cell_type": "code",
   "execution_count": 10,
   "metadata": {},
   "outputs": [],
   "source": [
    "import pickle\n",
    "\n",
    "cache_dir = os.path.join(\"../cache\", \"sentiment_analysis\")  # where to store cache files\n",
    "os.makedirs(cache_dir, exist_ok=True)  # ensure cache directory exists\n",
    "\n",
    "def preprocess_data(data_train, data_test, labels_train, labels_test,\n",
    "                    cache_dir=cache_dir, cache_file=\"preprocessed_data.pkl\"):\n",
    "    \"\"\"Convert each review to words; read from cache if available.\"\"\"\n",
    "\n",
    "    # If cache_file is not None, try to read from it first\n",
    "    cache_data = None\n",
    "    if cache_file is not None:\n",
    "        try:\n",
    "            with open(os.path.join(cache_dir, cache_file), \"rb\") as f:\n",
    "                cache_data = pickle.load(f)\n",
    "            print(\"Read preprocessed data from cache file:\", cache_file)\n",
    "        except:\n",
    "            pass  # unable to read from cache, but that's okay\n",
    "    \n",
    "    # If cache is missing, then do the heavy lifting\n",
    "    if cache_data is None:\n",
    "        # Preprocess training and test data to obtain words for each review\n",
    "        #words_train = list(map(review_to_words, data_train))\n",
    "        #words_test = list(map(review_to_words, data_test))\n",
    "        words_train = [review_to_words(review) for review in data_train]\n",
    "        words_test = [review_to_words(review) for review in data_test]\n",
    "        \n",
    "        # Write to cache file for future runs\n",
    "        if cache_file is not None:\n",
    "            cache_data = dict(words_train=words_train, words_test=words_test,\n",
    "                              labels_train=labels_train, labels_test=labels_test)\n",
    "            with open(os.path.join(cache_dir, cache_file), \"wb\") as f:\n",
    "                pickle.dump(cache_data, f)\n",
    "            print(\"Wrote preprocessed data to cache file:\", cache_file)\n",
    "    else:\n",
    "        # Unpack data loaded from cache file\n",
    "        words_train, words_test, labels_train, labels_test = (cache_data['words_train'],\n",
    "                cache_data['words_test'], cache_data['labels_train'], cache_data['labels_test'])\n",
    "    \n",
    "    return words_train, words_test, labels_train, labels_test"
   ]
  },
  {
   "cell_type": "code",
   "execution_count": 11,
   "metadata": {},
   "outputs": [
    {
     "name": "stdout",
     "output_type": "stream",
     "text": [
      "Read preprocessed data from cache file: preprocessed_data.pkl\n"
     ]
    }
   ],
   "source": [
    "# Preprocess data\n",
    "train_X, test_X, train_y, test_y = preprocess_data(train_X, test_X, train_y, test_y)"
   ]
  },
  {
   "cell_type": "markdown",
   "metadata": {},
   "source": [
    "### Extract Bag-of-Words features\n",
    "\n",
    "For the model we will be implementing, rather than using the reviews directly, we are going to transform each review into a Bag-of-Words feature representation. Keep in mind that 'in the wild' we will only have access to the training set so our transformer can only use the training set to construct a representation."
   ]
  },
  {
   "cell_type": "code",
   "execution_count": null,
   "metadata": {},
   "outputs": [],
   "source": []
  },
  {
   "cell_type": "code",
   "execution_count": 12,
   "metadata": {},
   "outputs": [],
   "source": [
    "import numpy as np\n",
    "from sklearn.feature_extraction.text import CountVectorizer\n",
    "#from sklearn.externals import joblib\n",
    "#import sklearn.externals.joblib as extjoblib\n",
    "import joblib\n",
    "# joblib is an enhanced version of pickle that is more efficient for storing NumPy arrays\n",
    "\n",
    "def extract_BoW_features(words_train, words_test, vocabulary_size=5000,\n",
    "                         cache_dir=cache_dir, cache_file=\"bow_features.pkl\"):\n",
    "    \"\"\"Extract Bag-of-Words for a given set of documents, already preprocessed into words.\"\"\"\n",
    "    \n",
    "    # If cache_file is not None, try to read from it first\n",
    "    cache_data = None\n",
    "    if cache_file is not None:\n",
    "        try:\n",
    "            with open(os.path.join(cache_dir, cache_file), \"rb\") as f:\n",
    "                cache_data = joblib.load(f)\n",
    "            print(\"Read features from cache file:\", cache_file)\n",
    "        except:\n",
    "            pass  # unable to read from cache, but that's okay\n",
    "    \n",
    "    # If cache is missing, then do the heavy lifting\n",
    "    if cache_data is None:\n",
    "        # Fit a vectorizer to training documents and use it to transform them\n",
    "        # NOTE: Training documents have already been preprocessed and tokenized into words;\n",
    "        #       pass in dummy functions to skip those steps, e.g. preprocessor=lambda x: x\n",
    "        vectorizer = CountVectorizer(max_features=vocabulary_size,\n",
    "                preprocessor=lambda x: x, tokenizer=lambda x: x)  # already preprocessed\n",
    "        features_train = vectorizer.fit_transform(words_train).toarray()\n",
    "\n",
    "        # Apply the same vectorizer to transform the test documents (ignore unknown words)\n",
    "        features_test = vectorizer.transform(words_test).toarray()\n",
    "        \n",
    "        # NOTE: Remember to convert the features using .toarray() for a compact representation\n",
    "        \n",
    "        # Write to cache file for future runs (store vocabulary as well)\n",
    "        if cache_file is not None:\n",
    "            vocabulary = vectorizer.vocabulary_\n",
    "            cache_data = dict(features_train=features_train, features_test=features_test,\n",
    "                             vocabulary=vocabulary)\n",
    "            with open(os.path.join(cache_dir, cache_file), \"wb\") as f:\n",
    "                joblib.dump(cache_data, f)\n",
    "            print(\"Wrote features to cache file:\", cache_file)\n",
    "    else:\n",
    "        # Unpack data loaded from cache file\n",
    "        features_train, features_test, vocabulary = (cache_data['features_train'],\n",
    "                cache_data['features_test'], cache_data['vocabulary'])\n",
    "    \n",
    "    # Return both the extracted features as well as the vocabulary\n",
    "    return features_train, features_test, vocabulary"
   ]
  },
  {
   "cell_type": "code",
   "execution_count": 13,
   "metadata": {},
   "outputs": [
    {
     "name": "stdout",
     "output_type": "stream",
     "text": [
      "Read features from cache file: bow_features.pkl\n"
     ]
    }
   ],
   "source": [
    "# Extract Bag of Words features for both training and test datasets\n",
    "train_X, test_X, vocabulary = extract_BoW_features(train_X, test_X)"
   ]
  },
  {
   "cell_type": "markdown",
   "metadata": {},
   "source": [
    "## Step 4: Classification using XGBoost\n",
    "\n",
    "Now that we have created the feature representation of our training (and testing) data, it is time to start setting up and using the XGBoost classifier provided by SageMaker.\n",
    "\n",
    "### (TODO) Writing the dataset\n",
    "\n",
    "The XGBoost classifier that we will be using requires the dataset to be written to a file and stored using Amazon S3. To do this, we will start by splitting the training dataset into two parts, the data we will train the model with and a validation set. Then, we will write those datasets to a file and upload the files to S3. In addition, we will write the test set input to a file and upload the file to S3. This is so that we can use SageMakers Batch Transform functionality to test our model once we've fit it."
   ]
  },
  {
   "cell_type": "code",
   "execution_count": 14,
   "metadata": {},
   "outputs": [],
   "source": [
    "import pandas as pd\n",
    "\n",
    "# TODO: Split the train_X and train_y arrays into the DataFrames val_X, train_X and val_y, train_y. Make sure that\n",
    "#       val_X and val_y contain 10 000 entires while train_X and train_y contain the remaining 15 000 entries.\n",
    "\n",
    "\n",
    "\n",
    "val_X = pd.DataFrame(train_X[:10000])\n",
    "train_X = pd.DataFrame(train_X[10000:])\n",
    "\n",
    "val_y = pd.DataFrame(train_y[:10000])\n",
    "train_y = pd.DataFrame(train_y[10000:])"
   ]
  },
  {
   "cell_type": "code",
   "execution_count": 15,
   "metadata": {},
   "outputs": [
    {
     "data": {
      "text/plain": [
       "((10000, 5000), (15000, 5000), (10000, 1), (15000, 1))"
      ]
     },
     "execution_count": 15,
     "metadata": {},
     "output_type": "execute_result"
    }
   ],
   "source": [
    "val_X.shape, train_X.shape, val_y.shape, train_y.shape"
   ]
  },
  {
   "cell_type": "markdown",
   "metadata": {},
   "source": [
    "The documentation for the XGBoost algorithm in SageMaker requires that the saved datasets should contain no headers or index and that for the training and validation data, the label should occur first for each sample.\n",
    "\n",
    "For more information about this and other algorithms, the SageMaker developer documentation can be found on __[Amazon's website.](https://docs.aws.amazon.com/sagemaker/latest/dg/)__"
   ]
  },
  {
   "cell_type": "code",
   "execution_count": 16,
   "metadata": {},
   "outputs": [],
   "source": [
    "# First we make sure that the local directory in which we'd like to store the training and validation csv files exists.\n",
    "data_dir = '../data/xgboost-mini-proj'\n",
    "if not os.path.exists(data_dir):\n",
    "    os.makedirs(data_dir)"
   ]
  },
  {
   "cell_type": "code",
   "execution_count": 17,
   "metadata": {},
   "outputs": [],
   "source": [
    "# First, save the test data to test.csv in the data_dir directory. Note that we do not save the associated ground truth\n",
    "# labels, instead we will use them later to compare with our model output.\n",
    "\n",
    "pd.DataFrame(test_X).to_csv(os.path.join(data_dir, 'test.csv'), header=False, index=False)\n",
    "\n",
    "# TODO: Save the training and validation data to train.csv and validation.csv in the data_dir directory.\n",
    "#       Make sure that the files you create are in the correct format.\n",
    "pd.concat([val_y, val_X], axis =1).to_csv(os.path.join(data_dir, 'validation.csv'), header = False, index = False)\n",
    "pd.concat([train_y, train_X], axis = 1).to_csv( os.path.join(data_dir, 'train.csv') , header =False, index = False)"
   ]
  },
  {
   "cell_type": "code",
   "execution_count": 18,
   "metadata": {},
   "outputs": [],
   "source": [
    "# To save a bit of memory we can set text_X, train_X, val_X, train_y and val_y to None.\n",
    "\n",
    "test_X = train_X = val_X = train_y = val_y = None"
   ]
  },
  {
   "cell_type": "markdown",
   "metadata": {},
   "source": [
    "### (TODO) Uploading Training / Validation files to S3\n",
    "\n",
    "Amazon's S3 service allows us to store files that can be access by both the built-in training models such as the XGBoost model we will be using as well as custom models such as the one we will see a little later.\n",
    "\n",
    "For this, and most other tasks we will be doing using SageMaker, there are two methods we could use. The first is to use the low level functionality of SageMaker which requires knowing each of the objects involved in the SageMaker environment. The second is to use the high level functionality in which certain choices have been made on the user's behalf. The low level approach benefits from allowing the user a great deal of flexibility while the high level approach makes development much quicker. For our purposes we will opt to use the high level approach although using the low-level approach is certainly an option.\n",
    "\n",
    "Recall the method `upload_data()` which is a member of object representing our current SageMaker session. What this method does is upload the data to the default bucket (which is created if it does not exist) into the path described by the key_prefix variable. To see this for yourself, once you have uploaded the data files, go to the S3 console and look to see where the files have been uploaded.\n",
    "\n",
    "For additional resources, see the __[SageMaker API documentation](http://sagemaker.readthedocs.io/en/latest/)__ and in addition the __[SageMaker Developer Guide.](https://docs.aws.amazon.com/sagemaker/latest/dg/)__"
   ]
  },
  {
   "cell_type": "code",
   "execution_count": 21,
   "metadata": {},
   "outputs": [],
   "source": [
    "import sagemaker\n",
    "import boto3\n",
    "session = sagemaker.Session()\n",
    "\n",
    "\n",
    "# Store the current SageMaker session\n",
    "\n",
    "# S3 prefix (which folder will we use)\n",
    "prefix = 'imdb-sentiment-xgboost'\n",
    "\n",
    "# TODO: Upload the test.csv, train.csv and validation.csv files which are contained in data_dir to S3 using sess.upload_data().\n",
    "test_location = session.upload_data(os.path.join(data_dir, 'test.csv' ), key_prefix = prefix)\n",
    "val_location = session.upload_data(os.path.join(data_dir, 'validation.csv'), key_prefix = prefix)\n",
    "train_location = session.upload_data(os.path.join(data_dir, 'train.csv'), key_prefix = prefix)"
   ]
  },
  {
   "cell_type": "markdown",
   "metadata": {},
   "source": [
    "### (TODO) Creating the XGBoost model\n",
    "\n",
    "Now that the data has been uploaded it is time to create the XGBoost model. To begin with, we need to do some setup. At this point it is worth discussing what a model is in SageMaker. It is easiest to think of a model of comprising three different objects in the SageMaker ecosystem, which interact with one another.\n",
    "\n",
    "- Model Artifacts\n",
    "- Training Code (Container)\n",
    "- Inference Code (Container)\n",
    "\n",
    "The Model Artifacts are what you might think of as the actual model itself. For example, if you were building a neural network, the model artifacts would be the weights of the various layers. In our case, for an XGBoost model, the artifacts are the actual trees that are created during training.\n",
    "\n",
    "The other two objects, the training code and the inference code are then used the manipulate the training artifacts. More precisely, the training code uses the training data that is provided and creates the model artifacts, while the inference code uses the model artifacts to make predictions on new data.\n",
    "\n",
    "The way that SageMaker runs the training and inference code is by making use of Docker containers. For now, think of a container as being a way of packaging code up so that dependencies aren't an issue."
   ]
  },
  {
   "cell_type": "code",
   "execution_count": 22,
   "metadata": {},
   "outputs": [],
   "source": [
    "from sagemaker import get_execution_role\n",
    "# Our current execution role is require when creating the model as the training\n",
    "# and inference code will need to access the model artifacts.\n",
    "role = get_execution_role()"
   ]
  },
  {
   "cell_type": "code",
   "execution_count": 26,
   "metadata": {},
   "outputs": [
    {
     "data": {
      "text/plain": [
       "'us-east-1'"
      ]
     },
     "execution_count": 26,
     "metadata": {},
     "output_type": "execute_result"
    }
   ],
   "source": [
    "session.boto_region_name"
   ]
  },
  {
   "cell_type": "code",
   "execution_count": 27,
   "metadata": {},
   "outputs": [
    {
     "data": {
      "text/plain": [
       "'us-east-1'"
      ]
     },
     "execution_count": 27,
     "metadata": {},
     "output_type": "execute_result"
    }
   ],
   "source": [
    "boto3.Session().region_name"
   ]
  },
  {
   "cell_type": "code",
   "execution_count": 28,
   "metadata": {},
   "outputs": [
    {
     "name": "stderr",
     "output_type": "stream",
     "text": [
      "'get_image_uri' method will be deprecated in favor of 'ImageURIProvider' class in SageMaker Python SDK v2.\n",
      "There is a more up to date SageMaker XGBoost image. To use the newer image, please set 'repo_version'='1.0-1'. For example:\n",
      "\tget_image_uri(region, 'xgboost', '1.0-1').\n"
     ]
    }
   ],
   "source": [
    "# We need to retrieve the location of the container which is provided by Amazon for using XGBoost.\n",
    "# As a matter of convenience, the training and inference code both use the same container.\n",
    "\n",
    "from sagemaker.amazon.amazon_estimator import get_image_uri\n",
    "\n",
    "container  = get_image_uri(session.boto_region_name, 'xgboost')"
   ]
  },
  {
   "cell_type": "code",
   "execution_count": 33,
   "metadata": {},
   "outputs": [],
   "source": [
    "output = 's3://{}/{}/output'.format(session.default_bucket(), prefix)"
   ]
  },
  {
   "cell_type": "code",
   "execution_count": 35,
   "metadata": {},
   "outputs": [
    {
     "name": "stderr",
     "output_type": "stream",
     "text": [
      "Parameter image_name will be renamed to image_uri in SageMaker Python SDK v2.\n"
     ]
    }
   ],
   "source": [
    "# TODO: Create a SageMaker estimator using the container location determined in the previous cell.\n",
    "#       It is recommended that you use a single training instance of type ml.m4.xlarge. It is also\n",
    "#       recommended that you use 's3://{}/{}/output'.format(session.default_bucket(), prefix) as the\n",
    "#       output path.\n",
    "\n",
    "xgb = sagemaker.estimator.Estimator(container,\n",
    "                                   role = role,\n",
    "                                   sagemaker_session = session,\n",
    "                                   train_instance_count = 1,\n",
    "                                   train_instance_type = 'ml.m4.xlarge',\n",
    "                                   output_path = output\n",
    "                                   \n",
    "                                \n",
    "                                   )\n",
    "\n",
    "\n",
    "# TODO: Set the XGBoost hyperparameters in the xgb object. Don't forget that in this case we have a binary\n",
    "#       label so we should be using the 'binary:logistic' objective.\n",
    "\n",
    "xgb.set_hyperparameters(max_depth=5,\n",
    "                        eta=0.2,\n",
    "                        gamma=4,\n",
    "                        min_child_weight=6,\n",
    "                        subsample=0.8,\n",
    "                        silent=0,\n",
    "                        objective='binary:logistic',\n",
    "                        early_stopping_rounds=10,\n",
    "                        num_round=500)"
   ]
  },
  {
   "cell_type": "markdown",
   "metadata": {},
   "source": [
    "### Fit the XGBoost model\n",
    "\n",
    "Now that our model has been set up we simply need to attach the training and validation datasets and then ask SageMaker to set up the computation."
   ]
  },
  {
   "cell_type": "code",
   "execution_count": 36,
   "metadata": {},
   "outputs": [
    {
     "name": "stderr",
     "output_type": "stream",
     "text": [
      "'s3_input' class will be renamed to 'TrainingInput' in SageMaker Python SDK v2.\n",
      "'s3_input' class will be renamed to 'TrainingInput' in SageMaker Python SDK v2.\n"
     ]
    }
   ],
   "source": [
    "s3_input_train = sagemaker.s3_input(s3_data=train_location, content_type='csv')\n",
    "s3_input_validation = sagemaker.s3_input(s3_data=val_location, content_type='csv')"
   ]
  },
  {
   "cell_type": "code",
   "execution_count": 37,
   "metadata": {},
   "outputs": [
    {
     "name": "stdout",
     "output_type": "stream",
     "text": [
      "2021-08-12 10:00:04 Starting - Starting the training job...\n",
      "2021-08-12 10:00:06 Starting - Launching requested ML instances.........\n",
      "2021-08-12 10:02:03 Starting - Preparing the instances for training.........\n",
      "2021-08-12 10:03:35 Downloading - Downloading input data\n",
      "2021-08-12 10:03:35 Training - Downloading the training image...\n",
      "2021-08-12 10:04:04 Training - Training image download completed. Training in progress..\u001b[34mArguments: train\u001b[0m\n",
      "\u001b[34m[2021-08-12:10:04:04:INFO] Running standalone xgboost training.\u001b[0m\n",
      "\u001b[34m[2021-08-12:10:04:04:INFO] File size need to be processed in the node: 238.47mb. Available memory size in the node: 8401.1mb\u001b[0m\n",
      "\u001b[34m[2021-08-12:10:04:04:INFO] Determined delimiter of CSV input is ','\u001b[0m\n",
      "\u001b[34m[10:04:04] S3DistributionType set as FullyReplicated\u001b[0m\n",
      "\u001b[34m[10:04:07] 15000x5000 matrix with 75000000 entries loaded from /opt/ml/input/data/train?format=csv&label_column=0&delimiter=,\u001b[0m\n",
      "\u001b[34m[2021-08-12:10:04:07:INFO] Determined delimiter of CSV input is ','\u001b[0m\n",
      "\u001b[34m[10:04:07] S3DistributionType set as FullyReplicated\u001b[0m\n",
      "\u001b[34m[10:04:08] 10000x5000 matrix with 50000000 entries loaded from /opt/ml/input/data/validation?format=csv&label_column=0&delimiter=,\u001b[0m\n",
      "\u001b[34m[10:04:12] src/tree/updater_prune.cc:74: tree pruning end, 1 roots, 38 extra nodes, 2 pruned nodes, max_depth=5\u001b[0m\n",
      "\u001b[34m[0]#011train-error:0.294333#011validation-error:0.3004\u001b[0m\n",
      "\u001b[34mMultiple eval metrics have been passed: 'validation-error' will be used for early stopping.\n",
      "\u001b[0m\n",
      "\u001b[34mWill train until validation-error hasn't improved in 10 rounds.\u001b[0m\n",
      "\u001b[34m[10:04:14] src/tree/updater_prune.cc:74: tree pruning end, 1 roots, 40 extra nodes, 6 pruned nodes, max_depth=5\u001b[0m\n",
      "\u001b[34m[1]#011train-error:0.280133#011validation-error:0.2866\u001b[0m\n",
      "\u001b[34m[10:04:15] src/tree/updater_prune.cc:74: tree pruning end, 1 roots, 42 extra nodes, 6 pruned nodes, max_depth=5\u001b[0m\n",
      "\u001b[34m[2]#011train-error:0.268267#011validation-error:0.2801\u001b[0m\n",
      "\u001b[34m[10:04:17] src/tree/updater_prune.cc:74: tree pruning end, 1 roots, 30 extra nodes, 2 pruned nodes, max_depth=5\u001b[0m\n",
      "\u001b[34m[3]#011train-error:0.267067#011validation-error:0.2785\u001b[0m\n",
      "\u001b[34m[10:04:19] src/tree/updater_prune.cc:74: tree pruning end, 1 roots, 32 extra nodes, 8 pruned nodes, max_depth=5\u001b[0m\n",
      "\u001b[34m[4]#011train-error:0.259133#011validation-error:0.2722\u001b[0m\n",
      "\u001b[34m[10:04:20] src/tree/updater_prune.cc:74: tree pruning end, 1 roots, 36 extra nodes, 6 pruned nodes, max_depth=5\u001b[0m\n",
      "\u001b[34m[5]#011train-error:0.254533#011validation-error:0.2679\u001b[0m\n",
      "\u001b[34m[10:04:21] src/tree/updater_prune.cc:74: tree pruning end, 1 roots, 30 extra nodes, 4 pruned nodes, max_depth=5\u001b[0m\n",
      "\u001b[34m[6]#011train-error:0.250533#011validation-error:0.2639\u001b[0m\n",
      "\u001b[34m[10:04:23] src/tree/updater_prune.cc:74: tree pruning end, 1 roots, 30 extra nodes, 6 pruned nodes, max_depth=5\u001b[0m\n",
      "\u001b[34m[7]#011train-error:0.237933#011validation-error:0.2547\u001b[0m\n",
      "\u001b[34m[10:04:24] src/tree/updater_prune.cc:74: tree pruning end, 1 roots, 40 extra nodes, 4 pruned nodes, max_depth=5\u001b[0m\n",
      "\u001b[34m[8]#011train-error:0.231067#011validation-error:0.2495\u001b[0m\n",
      "\u001b[34m[10:04:26] src/tree/updater_prune.cc:74: tree pruning end, 1 roots, 30 extra nodes, 4 pruned nodes, max_depth=5\u001b[0m\n",
      "\u001b[34m[9]#011train-error:0.224333#011validation-error:0.2414\u001b[0m\n",
      "\u001b[34m[10:04:27] src/tree/updater_prune.cc:74: tree pruning end, 1 roots, 32 extra nodes, 2 pruned nodes, max_depth=5\u001b[0m\n",
      "\u001b[34m[10]#011train-error:0.219267#011validation-error:0.2371\u001b[0m\n",
      "\u001b[34m[10:04:28] src/tree/updater_prune.cc:74: tree pruning end, 1 roots, 20 extra nodes, 12 pruned nodes, max_depth=5\u001b[0m\n",
      "\u001b[34m[11]#011train-error:0.2148#011validation-error:0.2327\u001b[0m\n",
      "\u001b[34m[10:04:30] src/tree/updater_prune.cc:74: tree pruning end, 1 roots, 28 extra nodes, 10 pruned nodes, max_depth=5\u001b[0m\n",
      "\u001b[34m[12]#011train-error:0.210733#011validation-error:0.23\u001b[0m\n",
      "\u001b[34m[10:04:31] src/tree/updater_prune.cc:74: tree pruning end, 1 roots, 30 extra nodes, 6 pruned nodes, max_depth=5\u001b[0m\n",
      "\u001b[34m[13]#011train-error:0.205267#011validation-error:0.2236\u001b[0m\n",
      "\u001b[34m[10:04:33] src/tree/updater_prune.cc:74: tree pruning end, 1 roots, 30 extra nodes, 2 pruned nodes, max_depth=5\u001b[0m\n",
      "\u001b[34m[14]#011train-error:0.2022#011validation-error:0.2198\u001b[0m\n",
      "\u001b[34m[10:04:34] src/tree/updater_prune.cc:74: tree pruning end, 1 roots, 38 extra nodes, 6 pruned nodes, max_depth=5\u001b[0m\n",
      "\u001b[34m[15]#011train-error:0.199#011validation-error:0.2174\u001b[0m\n",
      "\u001b[34m[10:04:35] src/tree/updater_prune.cc:74: tree pruning end, 1 roots, 30 extra nodes, 12 pruned nodes, max_depth=5\u001b[0m\n",
      "\u001b[34m[16]#011train-error:0.198933#011validation-error:0.2145\u001b[0m\n",
      "\u001b[34m[10:04:37] src/tree/updater_prune.cc:74: tree pruning end, 1 roots, 36 extra nodes, 8 pruned nodes, max_depth=5\u001b[0m\n",
      "\u001b[34m[17]#011train-error:0.194533#011validation-error:0.2106\u001b[0m\n",
      "\u001b[34m[10:04:38] src/tree/updater_prune.cc:74: tree pruning end, 1 roots, 30 extra nodes, 6 pruned nodes, max_depth=5\u001b[0m\n",
      "\u001b[34m[18]#011train-error:0.1896#011validation-error:0.2083\u001b[0m\n",
      "\u001b[34m[10:04:40] src/tree/updater_prune.cc:74: tree pruning end, 1 roots, 26 extra nodes, 14 pruned nodes, max_depth=5\u001b[0m\n",
      "\u001b[34m[19]#011train-error:0.183933#011validation-error:0.2051\u001b[0m\n",
      "\u001b[34m[10:04:41] src/tree/updater_prune.cc:74: tree pruning end, 1 roots, 26 extra nodes, 8 pruned nodes, max_depth=5\u001b[0m\n",
      "\u001b[34m[20]#011train-error:0.180867#011validation-error:0.2003\u001b[0m\n",
      "\u001b[34m[10:04:42] src/tree/updater_prune.cc:74: tree pruning end, 1 roots, 24 extra nodes, 6 pruned nodes, max_depth=5\u001b[0m\n",
      "\u001b[34m[21]#011train-error:0.1788#011validation-error:0.1995\u001b[0m\n",
      "\u001b[34m[10:04:44] src/tree/updater_prune.cc:74: tree pruning end, 1 roots, 30 extra nodes, 10 pruned nodes, max_depth=5\u001b[0m\n",
      "\u001b[34m[22]#011train-error:0.177133#011validation-error:0.2006\u001b[0m\n",
      "\u001b[34m[10:04:45] src/tree/updater_prune.cc:74: tree pruning end, 1 roots, 22 extra nodes, 6 pruned nodes, max_depth=5\u001b[0m\n",
      "\u001b[34m[23]#011train-error:0.1768#011validation-error:0.2\u001b[0m\n",
      "\u001b[34m[10:04:47] src/tree/updater_prune.cc:74: tree pruning end, 1 roots, 28 extra nodes, 6 pruned nodes, max_depth=5\u001b[0m\n",
      "\u001b[34m[24]#011train-error:0.1742#011validation-error:0.1977\u001b[0m\n",
      "\u001b[34m[10:04:48] src/tree/updater_prune.cc:74: tree pruning end, 1 roots, 18 extra nodes, 12 pruned nodes, max_depth=5\u001b[0m\n",
      "\u001b[34m[25]#011train-error:0.1722#011validation-error:0.1952\u001b[0m\n",
      "\u001b[34m[10:04:50] src/tree/updater_prune.cc:74: tree pruning end, 1 roots, 28 extra nodes, 10 pruned nodes, max_depth=5\u001b[0m\n",
      "\u001b[34m[26]#011train-error:0.169333#011validation-error:0.1917\u001b[0m\n",
      "\u001b[34m[10:04:51] src/tree/updater_prune.cc:74: tree pruning end, 1 roots, 30 extra nodes, 8 pruned nodes, max_depth=5\u001b[0m\n",
      "\u001b[34m[27]#011train-error:0.1664#011validation-error:0.1911\u001b[0m\n",
      "\u001b[34m[10:04:52] src/tree/updater_prune.cc:74: tree pruning end, 1 roots, 14 extra nodes, 6 pruned nodes, max_depth=5\u001b[0m\n",
      "\u001b[34m[28]#011train-error:0.1658#011validation-error:0.1904\u001b[0m\n",
      "\u001b[34m[10:04:54] src/tree/updater_prune.cc:74: tree pruning end, 1 roots, 24 extra nodes, 12 pruned nodes, max_depth=5\u001b[0m\n",
      "\u001b[34m[29]#011train-error:0.165733#011validation-error:0.1894\u001b[0m\n",
      "\u001b[34m[10:04:55] src/tree/updater_prune.cc:74: tree pruning end, 1 roots, 24 extra nodes, 4 pruned nodes, max_depth=5\u001b[0m\n",
      "\u001b[34m[30]#011train-error:0.165267#011validation-error:0.1898\u001b[0m\n",
      "\u001b[34m[10:04:57] src/tree/updater_prune.cc:74: tree pruning end, 1 roots, 16 extra nodes, 10 pruned nodes, max_depth=5\u001b[0m\n",
      "\u001b[34m[31]#011train-error:0.163333#011validation-error:0.1881\u001b[0m\n",
      "\u001b[34m[10:04:58] src/tree/updater_prune.cc:74: tree pruning end, 1 roots, 34 extra nodes, 4 pruned nodes, max_depth=5\u001b[0m\n",
      "\u001b[34m[32]#011train-error:0.160533#011validation-error:0.1877\u001b[0m\n",
      "\u001b[34m[10:04:59] src/tree/updater_prune.cc:74: tree pruning end, 1 roots, 26 extra nodes, 12 pruned nodes, max_depth=5\u001b[0m\n",
      "\u001b[34m[33]#011train-error:0.159067#011validation-error:0.1865\u001b[0m\n",
      "\u001b[34m[10:05:01] src/tree/updater_prune.cc:74: tree pruning end, 1 roots, 12 extra nodes, 8 pruned nodes, max_depth=5\u001b[0m\n",
      "\u001b[34m[34]#011train-error:0.158733#011validation-error:0.1859\u001b[0m\n",
      "\u001b[34m[10:05:02] src/tree/updater_prune.cc:74: tree pruning end, 1 roots, 30 extra nodes, 12 pruned nodes, max_depth=5\u001b[0m\n",
      "\u001b[34m[35]#011train-error:0.1582#011validation-error:0.1842\u001b[0m\n",
      "\u001b[34m[10:05:04] src/tree/updater_prune.cc:74: tree pruning end, 1 roots, 26 extra nodes, 10 pruned nodes, max_depth=5\u001b[0m\n",
      "\u001b[34m[36]#011train-error:0.155533#011validation-error:0.1844\u001b[0m\n",
      "\u001b[34m[10:05:05] src/tree/updater_prune.cc:74: tree pruning end, 1 roots, 20 extra nodes, 8 pruned nodes, max_depth=5\u001b[0m\n",
      "\u001b[34m[37]#011train-error:0.154133#011validation-error:0.1832\u001b[0m\n",
      "\u001b[34m[10:05:07] src/tree/updater_prune.cc:74: tree pruning end, 1 roots, 24 extra nodes, 10 pruned nodes, max_depth=5\u001b[0m\n",
      "\u001b[34m[38]#011train-error:0.153067#011validation-error:0.1804\u001b[0m\n",
      "\u001b[34m[10:05:09] src/tree/updater_prune.cc:74: tree pruning end, 1 roots, 30 extra nodes, 6 pruned nodes, max_depth=5\u001b[0m\n",
      "\u001b[34m[39]#011train-error:0.151533#011validation-error:0.1806\u001b[0m\n",
      "\u001b[34m[10:05:10] src/tree/updater_prune.cc:74: tree pruning end, 1 roots, 30 extra nodes, 8 pruned nodes, max_depth=5\u001b[0m\n",
      "\u001b[34m[40]#011train-error:0.1504#011validation-error:0.1797\u001b[0m\n",
      "\u001b[34m[10:05:12] src/tree/updater_prune.cc:74: tree pruning end, 1 roots, 22 extra nodes, 18 pruned nodes, max_depth=5\u001b[0m\n",
      "\u001b[34m[41]#011train-error:0.1498#011validation-error:0.1784\u001b[0m\n",
      "\u001b[34m[10:05:13] src/tree/updater_prune.cc:74: tree pruning end, 1 roots, 24 extra nodes, 14 pruned nodes, max_depth=5\u001b[0m\n",
      "\u001b[34m[42]#011train-error:0.1474#011validation-error:0.1764\u001b[0m\n",
      "\u001b[34m[10:05:14] src/tree/updater_prune.cc:74: tree pruning end, 1 roots, 22 extra nodes, 8 pruned nodes, max_depth=5\u001b[0m\n",
      "\u001b[34m[43]#011train-error:0.147067#011validation-error:0.176\u001b[0m\n",
      "\u001b[34m[10:05:16] src/tree/updater_prune.cc:74: tree pruning end, 1 roots, 18 extra nodes, 12 pruned nodes, max_depth=5\u001b[0m\n",
      "\u001b[34m[44]#011train-error:0.145933#011validation-error:0.1753\u001b[0m\n",
      "\u001b[34m[10:05:17] src/tree/updater_prune.cc:74: tree pruning end, 1 roots, 30 extra nodes, 8 pruned nodes, max_depth=5\u001b[0m\n",
      "\u001b[34m[45]#011train-error:0.144867#011validation-error:0.175\u001b[0m\n",
      "\u001b[34m[10:05:19] src/tree/updater_prune.cc:74: tree pruning end, 1 roots, 28 extra nodes, 8 pruned nodes, max_depth=5\u001b[0m\n",
      "\u001b[34m[46]#011train-error:0.144#011validation-error:0.1746\u001b[0m\n",
      "\u001b[34m[10:05:20] src/tree/updater_prune.cc:74: tree pruning end, 1 roots, 10 extra nodes, 10 pruned nodes, max_depth=5\u001b[0m\n",
      "\u001b[34m[47]#011train-error:0.142933#011validation-error:0.1734\u001b[0m\n",
      "\u001b[34m[10:05:21] src/tree/updater_prune.cc:74: tree pruning end, 1 roots, 28 extra nodes, 10 pruned nodes, max_depth=5\u001b[0m\n",
      "\u001b[34m[48]#011train-error:0.141267#011validation-error:0.1717\u001b[0m\n",
      "\u001b[34m[10:05:23] src/tree/updater_prune.cc:74: tree pruning end, 1 roots, 22 extra nodes, 6 pruned nodes, max_depth=5\u001b[0m\n",
      "\u001b[34m[49]#011train-error:0.141267#011validation-error:0.1713\u001b[0m\n",
      "\u001b[34m[10:05:24] src/tree/updater_prune.cc:74: tree pruning end, 1 roots, 30 extra nodes, 6 pruned nodes, max_depth=5\u001b[0m\n",
      "\u001b[34m[50]#011train-error:0.14#011validation-error:0.1714\u001b[0m\n",
      "\u001b[34m[10:05:26] src/tree/updater_prune.cc:74: tree pruning end, 1 roots, 28 extra nodes, 10 pruned nodes, max_depth=5\u001b[0m\n",
      "\u001b[34m[51]#011train-error:0.1378#011validation-error:0.17\u001b[0m\n",
      "\u001b[34m[10:05:27] src/tree/updater_prune.cc:74: tree pruning end, 1 roots, 20 extra nodes, 10 pruned nodes, max_depth=5\u001b[0m\n",
      "\u001b[34m[52]#011train-error:0.137267#011validation-error:0.1699\u001b[0m\n",
      "\u001b[34m[10:05:28] src/tree/updater_prune.cc:74: tree pruning end, 1 roots, 20 extra nodes, 2 pruned nodes, max_depth=5\u001b[0m\n",
      "\u001b[34m[53]#011train-error:0.1368#011validation-error:0.17\u001b[0m\n",
      "\u001b[34m[10:05:30] src/tree/updater_prune.cc:74: tree pruning end, 1 roots, 18 extra nodes, 6 pruned nodes, max_depth=5\u001b[0m\n",
      "\u001b[34m[54]#011train-error:0.1364#011validation-error:0.1695\u001b[0m\n",
      "\u001b[34m[10:05:31] src/tree/updater_prune.cc:74: tree pruning end, 1 roots, 16 extra nodes, 12 pruned nodes, max_depth=5\u001b[0m\n",
      "\u001b[34m[55]#011train-error:0.135533#011validation-error:0.1678\u001b[0m\n",
      "\u001b[34m[10:05:33] src/tree/updater_prune.cc:74: tree pruning end, 1 roots, 14 extra nodes, 8 pruned nodes, max_depth=5\u001b[0m\n",
      "\u001b[34m[56]#011train-error:0.1346#011validation-error:0.1672\u001b[0m\n",
      "\u001b[34m[10:05:34] src/tree/updater_prune.cc:74: tree pruning end, 1 roots, 20 extra nodes, 10 pruned nodes, max_depth=5\u001b[0m\n",
      "\u001b[34m[57]#011train-error:0.133733#011validation-error:0.1659\u001b[0m\n",
      "\u001b[34m[10:05:35] src/tree/updater_prune.cc:74: tree pruning end, 1 roots, 22 extra nodes, 6 pruned nodes, max_depth=5\u001b[0m\n",
      "\u001b[34m[58]#011train-error:0.133267#011validation-error:0.1662\u001b[0m\n",
      "\u001b[34m[10:05:37] src/tree/updater_prune.cc:74: tree pruning end, 1 roots, 20 extra nodes, 8 pruned nodes, max_depth=5\u001b[0m\n",
      "\u001b[34m[59]#011train-error:0.1324#011validation-error:0.1659\u001b[0m\n",
      "\u001b[34m[10:05:38] src/tree/updater_prune.cc:74: tree pruning end, 1 roots, 22 extra nodes, 6 pruned nodes, max_depth=5\u001b[0m\n",
      "\u001b[34m[60]#011train-error:0.132067#011validation-error:0.1644\u001b[0m\n",
      "\u001b[34m[10:05:40] src/tree/updater_prune.cc:74: tree pruning end, 1 roots, 18 extra nodes, 8 pruned nodes, max_depth=5\u001b[0m\n",
      "\u001b[34m[61]#011train-error:0.1312#011validation-error:0.1646\u001b[0m\n",
      "\u001b[34m[10:05:41] src/tree/updater_prune.cc:74: tree pruning end, 1 roots, 18 extra nodes, 10 pruned nodes, max_depth=5\u001b[0m\n",
      "\u001b[34m[62]#011train-error:0.130533#011validation-error:0.1635\u001b[0m\n",
      "\u001b[34m[10:05:42] src/tree/updater_prune.cc:74: tree pruning end, 1 roots, 20 extra nodes, 12 pruned nodes, max_depth=5\u001b[0m\n",
      "\u001b[34m[63]#011train-error:0.128333#011validation-error:0.1638\u001b[0m\n",
      "\u001b[34m[10:05:44] src/tree/updater_prune.cc:74: tree pruning end, 1 roots, 16 extra nodes, 18 pruned nodes, max_depth=5\u001b[0m\n",
      "\u001b[34m[64]#011train-error:0.1284#011validation-error:0.1639\u001b[0m\n",
      "\u001b[34m[10:05:45] src/tree/updater_prune.cc:74: tree pruning end, 1 roots, 16 extra nodes, 12 pruned nodes, max_depth=5\u001b[0m\n",
      "\u001b[34m[65]#011train-error:0.127667#011validation-error:0.1623\u001b[0m\n",
      "\u001b[34m[10:05:47] src/tree/updater_prune.cc:74: tree pruning end, 1 roots, 14 extra nodes, 22 pruned nodes, max_depth=5\u001b[0m\n",
      "\u001b[34m[66]#011train-error:0.127333#011validation-error:0.162\u001b[0m\n",
      "\u001b[34m[10:05:48] src/tree/updater_prune.cc:74: tree pruning end, 1 roots, 30 extra nodes, 12 pruned nodes, max_depth=5\u001b[0m\n",
      "\u001b[34m[67]#011train-error:0.126733#011validation-error:0.1604\u001b[0m\n",
      "\u001b[34m[10:05:50] src/tree/updater_prune.cc:74: tree pruning end, 1 roots, 12 extra nodes, 10 pruned nodes, max_depth=5\u001b[0m\n",
      "\u001b[34m[68]#011train-error:0.125933#011validation-error:0.1609\u001b[0m\n",
      "\u001b[34m[10:05:51] src/tree/updater_prune.cc:74: tree pruning end, 1 roots, 20 extra nodes, 16 pruned nodes, max_depth=5\u001b[0m\n",
      "\u001b[34m[69]#011train-error:0.1258#011validation-error:0.1593\u001b[0m\n",
      "\u001b[34m[10:05:52] src/tree/updater_prune.cc:74: tree pruning end, 1 roots, 30 extra nodes, 6 pruned nodes, max_depth=5\u001b[0m\n",
      "\u001b[34m[70]#011train-error:0.1256#011validation-error:0.1601\u001b[0m\n",
      "\u001b[34m[10:05:54] src/tree/updater_prune.cc:74: tree pruning end, 1 roots, 12 extra nodes, 10 pruned nodes, max_depth=5\u001b[0m\n",
      "\u001b[34m[71]#011train-error:0.1254#011validation-error:0.1593\u001b[0m\n",
      "\u001b[34m[10:05:55] src/tree/updater_prune.cc:74: tree pruning end, 1 roots, 14 extra nodes, 8 pruned nodes, max_depth=5\u001b[0m\n",
      "\u001b[34m[72]#011train-error:0.124667#011validation-error:0.1596\u001b[0m\n",
      "\u001b[34m[10:05:57] src/tree/updater_prune.cc:74: tree pruning end, 1 roots, 26 extra nodes, 10 pruned nodes, max_depth=5\u001b[0m\n",
      "\u001b[34m[73]#011train-error:0.122933#011validation-error:0.1602\u001b[0m\n",
      "\u001b[34m[10:05:58] src/tree/updater_prune.cc:74: tree pruning end, 1 roots, 16 extra nodes, 6 pruned nodes, max_depth=5\u001b[0m\n",
      "\u001b[34m[74]#011train-error:0.1228#011validation-error:0.1598\u001b[0m\n",
      "\u001b[34m[10:05:59] src/tree/updater_prune.cc:74: tree pruning end, 1 roots, 28 extra nodes, 4 pruned nodes, max_depth=5\u001b[0m\n",
      "\u001b[34m[75]#011train-error:0.121733#011validation-error:0.1606\u001b[0m\n",
      "\u001b[34m[10:06:01] src/tree/updater_prune.cc:74: tree pruning end, 1 roots, 14 extra nodes, 8 pruned nodes, max_depth=5\u001b[0m\n",
      "\u001b[34m[76]#011train-error:0.120933#011validation-error:0.1599\u001b[0m\n",
      "\u001b[34m[10:06:02] src/tree/updater_prune.cc:74: tree pruning end, 1 roots, 20 extra nodes, 4 pruned nodes, max_depth=5\u001b[0m\n",
      "\u001b[34m[77]#011train-error:0.1198#011validation-error:0.1591\u001b[0m\n",
      "\u001b[34m[10:06:04] src/tree/updater_prune.cc:74: tree pruning end, 1 roots, 16 extra nodes, 8 pruned nodes, max_depth=5\u001b[0m\n",
      "\u001b[34m[78]#011train-error:0.119933#011validation-error:0.1583\u001b[0m\n",
      "\u001b[34m[10:06:06] src/tree/updater_prune.cc:74: tree pruning end, 1 roots, 10 extra nodes, 10 pruned nodes, max_depth=5\u001b[0m\n",
      "\u001b[34m[79]#011train-error:0.120133#011validation-error:0.1583\u001b[0m\n",
      "\u001b[34m[10:06:07] src/tree/updater_prune.cc:74: tree pruning end, 1 roots, 14 extra nodes, 8 pruned nodes, max_depth=5\u001b[0m\n",
      "\u001b[34m[80]#011train-error:0.1198#011validation-error:0.1581\u001b[0m\n",
      "\u001b[34m[10:06:09] src/tree/updater_prune.cc:74: tree pruning end, 1 roots, 24 extra nodes, 12 pruned nodes, max_depth=5\u001b[0m\n",
      "\u001b[34m[81]#011train-error:0.118667#011validation-error:0.1579\u001b[0m\n",
      "\u001b[34m[10:06:10] src/tree/updater_prune.cc:74: tree pruning end, 1 roots, 14 extra nodes, 8 pruned nodes, max_depth=5\u001b[0m\n",
      "\u001b[34m[82]#011train-error:0.118067#011validation-error:0.1581\u001b[0m\n",
      "\u001b[34m[10:06:11] src/tree/updater_prune.cc:74: tree pruning end, 1 roots, 14 extra nodes, 12 pruned nodes, max_depth=5\u001b[0m\n",
      "\u001b[34m[83]#011train-error:0.117667#011validation-error:0.1568\u001b[0m\n",
      "\u001b[34m[10:06:13] src/tree/updater_prune.cc:74: tree pruning end, 1 roots, 12 extra nodes, 8 pruned nodes, max_depth=5\u001b[0m\n",
      "\u001b[34m[84]#011train-error:0.116933#011validation-error:0.157\u001b[0m\n",
      "\u001b[34m[10:06:14] src/tree/updater_prune.cc:74: tree pruning end, 1 roots, 18 extra nodes, 10 pruned nodes, max_depth=5\u001b[0m\n",
      "\u001b[34m[85]#011train-error:0.116267#011validation-error:0.1565\u001b[0m\n",
      "\u001b[34m[10:06:16] src/tree/updater_prune.cc:74: tree pruning end, 1 roots, 20 extra nodes, 18 pruned nodes, max_depth=5\u001b[0m\n",
      "\u001b[34m[86]#011train-error:0.115733#011validation-error:0.1564\u001b[0m\n",
      "\u001b[34m[10:06:17] src/tree/updater_prune.cc:74: tree pruning end, 1 roots, 30 extra nodes, 16 pruned nodes, max_depth=5\u001b[0m\n",
      "\u001b[34m[87]#011train-error:0.115067#011validation-error:0.1563\u001b[0m\n",
      "\u001b[34m[10:06:19] src/tree/updater_prune.cc:74: tree pruning end, 1 roots, 18 extra nodes, 8 pruned nodes, max_depth=5\u001b[0m\n",
      "\u001b[34m[88]#011train-error:0.114267#011validation-error:0.1565\u001b[0m\n",
      "\u001b[34m[10:06:20] src/tree/updater_prune.cc:74: tree pruning end, 1 roots, 24 extra nodes, 8 pruned nodes, max_depth=5\u001b[0m\n",
      "\u001b[34m[89]#011train-error:0.114067#011validation-error:0.1559\u001b[0m\n",
      "\u001b[34m[10:06:21] src/tree/updater_prune.cc:74: tree pruning end, 1 roots, 16 extra nodes, 6 pruned nodes, max_depth=5\u001b[0m\n",
      "\u001b[34m[90]#011train-error:0.113467#011validation-error:0.1551\u001b[0m\n",
      "\u001b[34m[10:06:23] src/tree/updater_prune.cc:74: tree pruning end, 1 roots, 10 extra nodes, 6 pruned nodes, max_depth=5\u001b[0m\n",
      "\u001b[34m[91]#011train-error:0.113#011validation-error:0.1549\u001b[0m\n",
      "\u001b[34m[10:06:24] src/tree/updater_prune.cc:74: tree pruning end, 1 roots, 12 extra nodes, 12 pruned nodes, max_depth=5\u001b[0m\n",
      "\u001b[34m[92]#011train-error:0.112467#011validation-error:0.1544\u001b[0m\n",
      "\u001b[34m[10:06:26] src/tree/updater_prune.cc:74: tree pruning end, 1 roots, 30 extra nodes, 6 pruned nodes, max_depth=5\u001b[0m\n",
      "\u001b[34m[93]#011train-error:0.1112#011validation-error:0.1539\u001b[0m\n",
      "\u001b[34m[10:06:27] src/tree/updater_prune.cc:74: tree pruning end, 1 roots, 14 extra nodes, 8 pruned nodes, max_depth=5\u001b[0m\n",
      "\u001b[34m[94]#011train-error:0.110733#011validation-error:0.154\u001b[0m\n",
      "\u001b[34m[10:06:28] src/tree/updater_prune.cc:74: tree pruning end, 1 roots, 14 extra nodes, 4 pruned nodes, max_depth=5\u001b[0m\n",
      "\u001b[34m[95]#011train-error:0.110333#011validation-error:0.1544\u001b[0m\n",
      "\u001b[34m[10:06:30] src/tree/updater_prune.cc:74: tree pruning end, 1 roots, 14 extra nodes, 8 pruned nodes, max_depth=5\u001b[0m\n",
      "\u001b[34m[96]#011train-error:0.109933#011validation-error:0.1543\u001b[0m\n",
      "\u001b[34m[10:06:31] src/tree/updater_prune.cc:74: tree pruning end, 1 roots, 20 extra nodes, 6 pruned nodes, max_depth=5\u001b[0m\n",
      "\u001b[34m[97]#011train-error:0.1084#011validation-error:0.1533\u001b[0m\n",
      "\u001b[34m[10:06:32] src/tree/updater_prune.cc:74: tree pruning end, 1 roots, 16 extra nodes, 10 pruned nodes, max_depth=5\u001b[0m\n",
      "\u001b[34m[98]#011train-error:0.1084#011validation-error:0.1528\u001b[0m\n",
      "\u001b[34m[10:06:34] src/tree/updater_prune.cc:74: tree pruning end, 1 roots, 16 extra nodes, 6 pruned nodes, max_depth=5\u001b[0m\n",
      "\u001b[34m[99]#011train-error:0.1084#011validation-error:0.1528\u001b[0m\n",
      "\u001b[34m[10:06:35] src/tree/updater_prune.cc:74: tree pruning end, 1 roots, 12 extra nodes, 18 pruned nodes, max_depth=5\u001b[0m\n",
      "\u001b[34m[100]#011train-error:0.107733#011validation-error:0.1528\u001b[0m\n",
      "\u001b[34m[10:06:37] src/tree/updater_prune.cc:74: tree pruning end, 1 roots, 20 extra nodes, 16 pruned nodes, max_depth=5\u001b[0m\n",
      "\u001b[34m[101]#011train-error:0.107733#011validation-error:0.1523\u001b[0m\n",
      "\u001b[34m[10:06:38] src/tree/updater_prune.cc:74: tree pruning end, 1 roots, 20 extra nodes, 12 pruned nodes, max_depth=5\u001b[0m\n",
      "\u001b[34m[102]#011train-error:0.107267#011validation-error:0.1523\u001b[0m\n",
      "\u001b[34m[10:06:40] src/tree/updater_prune.cc:74: tree pruning end, 1 roots, 16 extra nodes, 12 pruned nodes, max_depth=5\u001b[0m\n",
      "\u001b[34m[103]#011train-error:0.106267#011validation-error:0.152\u001b[0m\n",
      "\u001b[34m[10:06:41] src/tree/updater_prune.cc:74: tree pruning end, 1 roots, 16 extra nodes, 4 pruned nodes, max_depth=5\u001b[0m\n",
      "\u001b[34m[104]#011train-error:0.105867#011validation-error:0.1514\u001b[0m\n",
      "\u001b[34m[10:06:42] src/tree/updater_prune.cc:74: tree pruning end, 1 roots, 12 extra nodes, 4 pruned nodes, max_depth=5\u001b[0m\n",
      "\u001b[34m[105]#011train-error:0.105733#011validation-error:0.1516\u001b[0m\n",
      "\u001b[34m[10:06:44] src/tree/updater_prune.cc:74: tree pruning end, 1 roots, 12 extra nodes, 8 pruned nodes, max_depth=5\u001b[0m\n",
      "\u001b[34m[106]#011train-error:0.105733#011validation-error:0.1516\u001b[0m\n",
      "\u001b[34m[10:06:45] src/tree/updater_prune.cc:74: tree pruning end, 1 roots, 18 extra nodes, 8 pruned nodes, max_depth=5\u001b[0m\n",
      "\u001b[34m[107]#011train-error:0.1056#011validation-error:0.151\u001b[0m\n",
      "\u001b[34m[10:06:47] src/tree/updater_prune.cc:74: tree pruning end, 1 roots, 16 extra nodes, 8 pruned nodes, max_depth=5\u001b[0m\n",
      "\u001b[34m[108]#011train-error:0.104933#011validation-error:0.1502\u001b[0m\n",
      "\u001b[34m[10:06:48] src/tree/updater_prune.cc:74: tree pruning end, 1 roots, 14 extra nodes, 16 pruned nodes, max_depth=5\u001b[0m\n",
      "\u001b[34m[109]#011train-error:0.104533#011validation-error:0.1507\u001b[0m\n",
      "\u001b[34m[10:06:50] src/tree/updater_prune.cc:74: tree pruning end, 1 roots, 22 extra nodes, 6 pruned nodes, max_depth=5\u001b[0m\n",
      "\u001b[34m[110]#011train-error:0.104#011validation-error:0.15\u001b[0m\n",
      "\u001b[34m[10:06:51] src/tree/updater_prune.cc:74: tree pruning end, 1 roots, 12 extra nodes, 0 pruned nodes, max_depth=5\u001b[0m\n",
      "\u001b[34m[111]#011train-error:0.1032#011validation-error:0.1504\u001b[0m\n",
      "\u001b[34m[10:06:52] src/tree/updater_prune.cc:74: tree pruning end, 1 roots, 28 extra nodes, 4 pruned nodes, max_depth=5\u001b[0m\n",
      "\u001b[34m[112]#011train-error:0.102133#011validation-error:0.1498\u001b[0m\n",
      "\u001b[34m[10:06:54] src/tree/updater_prune.cc:74: tree pruning end, 1 roots, 18 extra nodes, 8 pruned nodes, max_depth=5\u001b[0m\n",
      "\u001b[34m[113]#011train-error:0.1022#011validation-error:0.1505\u001b[0m\n",
      "\u001b[34m[10:06:55] src/tree/updater_prune.cc:74: tree pruning end, 1 roots, 14 extra nodes, 18 pruned nodes, max_depth=5\u001b[0m\n",
      "\u001b[34m[114]#011train-error:0.102067#011validation-error:0.1499\u001b[0m\n",
      "\u001b[34m[10:06:57] src/tree/updater_prune.cc:74: tree pruning end, 1 roots, 16 extra nodes, 8 pruned nodes, max_depth=5\u001b[0m\n",
      "\u001b[34m[115]#011train-error:0.101667#011validation-error:0.1499\u001b[0m\n",
      "\u001b[34m[10:06:58] src/tree/updater_prune.cc:74: tree pruning end, 1 roots, 12 extra nodes, 4 pruned nodes, max_depth=5\u001b[0m\n",
      "\u001b[34m[116]#011train-error:0.101667#011validation-error:0.1495\u001b[0m\n",
      "\u001b[34m[10:06:59] src/tree/updater_prune.cc:74: tree pruning end, 1 roots, 26 extra nodes, 6 pruned nodes, max_depth=5\u001b[0m\n",
      "\u001b[34m[117]#011train-error:0.1012#011validation-error:0.149\u001b[0m\n",
      "\u001b[34m[10:07:01] src/tree/updater_prune.cc:74: tree pruning end, 1 roots, 14 extra nodes, 12 pruned nodes, max_depth=5\u001b[0m\n",
      "\u001b[34m[118]#011train-error:0.1008#011validation-error:0.1475\u001b[0m\n",
      "\u001b[34m[10:07:02] src/tree/updater_prune.cc:74: tree pruning end, 1 roots, 12 extra nodes, 6 pruned nodes, max_depth=5\u001b[0m\n",
      "\u001b[34m[119]#011train-error:0.1006#011validation-error:0.1481\u001b[0m\n",
      "\u001b[34m[10:07:04] src/tree/updater_prune.cc:74: tree pruning end, 1 roots, 16 extra nodes, 16 pruned nodes, max_depth=5\u001b[0m\n",
      "\u001b[34m[120]#011train-error:0.100267#011validation-error:0.1488\u001b[0m\n",
      "\u001b[34m[10:07:05] src/tree/updater_prune.cc:74: tree pruning end, 1 roots, 12 extra nodes, 2 pruned nodes, max_depth=5\u001b[0m\n",
      "\u001b[34m[121]#011train-error:0.100267#011validation-error:0.1485\u001b[0m\n",
      "\u001b[34m[10:07:07] src/tree/updater_prune.cc:74: tree pruning end, 1 roots, 22 extra nodes, 14 pruned nodes, max_depth=5\u001b[0m\n",
      "\u001b[34m[122]#011train-error:0.100067#011validation-error:0.1484\u001b[0m\n",
      "\u001b[34m[10:07:08] src/tree/updater_prune.cc:74: tree pruning end, 1 roots, 24 extra nodes, 6 pruned nodes, max_depth=5\u001b[0m\n",
      "\u001b[34m[123]#011train-error:0.0998#011validation-error:0.1488\u001b[0m\n",
      "\u001b[34m[10:07:10] src/tree/updater_prune.cc:74: tree pruning end, 1 roots, 22 extra nodes, 2 pruned nodes, max_depth=5\u001b[0m\n",
      "\u001b[34m[124]#011train-error:0.099533#011validation-error:0.148\u001b[0m\n",
      "\u001b[34m[10:07:11] src/tree/updater_prune.cc:74: tree pruning end, 1 roots, 10 extra nodes, 10 pruned nodes, max_depth=5\u001b[0m\n",
      "\u001b[34m[125]#011train-error:0.099267#011validation-error:0.1481\u001b[0m\n",
      "\u001b[34m[10:07:13] src/tree/updater_prune.cc:74: tree pruning end, 1 roots, 20 extra nodes, 16 pruned nodes, max_depth=5\u001b[0m\n",
      "\u001b[34m[126]#011train-error:0.098867#011validation-error:0.1478\u001b[0m\n",
      "\u001b[34m[10:07:14] src/tree/updater_prune.cc:74: tree pruning end, 1 roots, 14 extra nodes, 6 pruned nodes, max_depth=5\u001b[0m\n",
      "\u001b[34m[127]#011train-error:0.0986#011validation-error:0.1484\u001b[0m\n",
      "\u001b[34m[10:07:16] src/tree/updater_prune.cc:74: tree pruning end, 1 roots, 16 extra nodes, 10 pruned nodes, max_depth=5\u001b[0m\n",
      "\u001b[34m[128]#011train-error:0.0984#011validation-error:0.1487\u001b[0m\n",
      "\u001b[34mStopping. Best iteration:\u001b[0m\n",
      "\u001b[34m[118]#011train-error:0.1008#011validation-error:0.1475\n",
      "\u001b[0m\n",
      "\n",
      "2021-08-12 10:07:27 Uploading - Uploading generated training model\n",
      "2021-08-12 10:07:27 Completed - Training job completed\n",
      "Training seconds: 256\n",
      "Billable seconds: 256\n"
     ]
    }
   ],
   "source": [
    "xgb.fit({'train':s3_input_train, 'validation': s3_input_validation})"
   ]
  },
  {
   "cell_type": "code",
   "execution_count": null,
   "metadata": {},
   "outputs": [],
   "source": []
  },
  {
   "cell_type": "markdown",
   "metadata": {},
   "source": [
    "### (TODO) Testing the model\n",
    "\n",
    "Now that we've fit our XGBoost model, it's time to see how well it performs. To do this we will use SageMakers Batch Transform functionality. Batch Transform is a convenient way to perform inference on a large dataset in a way that is not realtime. That is, we don't necessarily need to use our model's results immediately and instead we can peform inference on a large number of samples. An example of this in industry might be peforming an end of month report. This method of inference can also be useful to us as it means to can perform inference on our entire test set. \n",
    "\n",
    "To perform a Batch Transformation we need to first create a transformer objects from our trained estimator object."
   ]
  },
  {
   "cell_type": "code",
   "execution_count": 38,
   "metadata": {},
   "outputs": [
    {
     "name": "stderr",
     "output_type": "stream",
     "text": [
      "Parameter image will be renamed to image_uri in SageMaker Python SDK v2.\n"
     ]
    }
   ],
   "source": [
    "# TODO: Create a transformer object from the trained model. Using an instance count of 1 and an instance type of ml.m4.xlarge\n",
    "#       should be more than enough.\n",
    "xgb_transformer = xgb.transformer(instance_type = 'ml.m4.xlarge' , instance_count =1)"
   ]
  },
  {
   "cell_type": "markdown",
   "metadata": {},
   "source": [
    "Next we actually perform the transform job. When doing so we need to make sure to specify the type of data we are sending so that it is serialized correctly in the background. In our case we are providing our model with csv data so we specify `text/csv`. Also, if the test data that we have provided is too large to process all at once then we need to specify how the data file should be split up. Since each line is a single entry in our data set we tell SageMaker that it can split the input on each line."
   ]
  },
  {
   "cell_type": "code",
   "execution_count": 39,
   "metadata": {},
   "outputs": [],
   "source": [
    "# TODO: Start the transform job. Make sure to specify the content type and the split type of the test data.\n",
    "xgb_transformer.transform(test_location, content_type = 'text/csv', split_type = 'Line')"
   ]
  },
  {
   "cell_type": "code",
   "execution_count": 40,
   "metadata": {},
   "outputs": [
    {
     "name": "stdout",
     "output_type": "stream",
     "text": [
      "....................................\u001b[34mArguments: serve\u001b[0m\n",
      "\u001b[34m[2021-08-12 10:14:52 +0000] [1] [INFO] Starting gunicorn 19.9.0\u001b[0m\n",
      "\u001b[34m[2021-08-12 10:14:52 +0000] [1] [INFO] Listening at: http://0.0.0.0:8080 (1)\u001b[0m\n",
      "\u001b[34m[2021-08-12 10:14:52 +0000] [1] [INFO] Using worker: gevent\u001b[0m\n",
      "\u001b[34m[2021-08-12 10:14:52 +0000] [20] [INFO] Booting worker with pid: 20\u001b[0m\n",
      "\u001b[34m/opt/amazon/lib/python3.7/site-packages/gunicorn/workers/ggevent.py:65: MonkeyPatchWarning: Monkey-patching ssl after ssl has already been imported may lead to errors, including RecursionError on Python 3.6. It may also silently lead to incorrect behaviour on Python 3.7. Please monkey-patch earlier. See https://github.com/gevent/gevent/issues/1016. Modules that had direct imports (NOT patched): ['urllib3.util.ssl_ (/opt/amazon/lib/python3.7/site-packages/urllib3/util/ssl_.py)', 'urllib3.util (/opt/amazon/lib/python3.7/site-packages/urllib3/util/__init__.py)']. \n",
      "  monkey.patch_all(subprocess=True)\u001b[0m\n",
      "\u001b[35mArguments: serve\u001b[0m\n",
      "\u001b[35m[2021-08-12 10:14:52 +0000] [1] [INFO] Starting gunicorn 19.9.0\u001b[0m\n",
      "\u001b[35m[2021-08-12 10:14:52 +0000] [1] [INFO] Listening at: http://0.0.0.0:8080 (1)\u001b[0m\n",
      "\u001b[35m[2021-08-12 10:14:52 +0000] [1] [INFO] Using worker: gevent\u001b[0m\n",
      "\u001b[35m[2021-08-12 10:14:52 +0000] [20] [INFO] Booting worker with pid: 20\u001b[0m\n",
      "\u001b[35m/opt/amazon/lib/python3.7/site-packages/gunicorn/workers/ggevent.py:65: MonkeyPatchWarning: Monkey-patching ssl after ssl has already been imported may lead to errors, including RecursionError on Python 3.6. It may also silently lead to incorrect behaviour on Python 3.7. Please monkey-patch earlier. See https://github.com/gevent/gevent/issues/1016. Modules that had direct imports (NOT patched): ['urllib3.util.ssl_ (/opt/amazon/lib/python3.7/site-packages/urllib3/util/ssl_.py)', 'urllib3.util (/opt/amazon/lib/python3.7/site-packages/urllib3/util/__init__.py)']. \n",
      "  monkey.patch_all(subprocess=True)\u001b[0m\n",
      "\u001b[34m[2021-08-12 10:14:52 +0000] [21] [INFO] Booting worker with pid: 21\u001b[0m\n",
      "\u001b[34m[2021-08-12:10:14:52:INFO] Model loaded successfully for worker : 20\u001b[0m\n",
      "\u001b[34m/opt/amazon/lib/python3.7/site-packages/gunicorn/workers/ggevent.py:65: MonkeyPatchWarning: Monkey-patching ssl after ssl has already been imported may lead to errors, including RecursionError on Python 3.6. It may also silently lead to incorrect behaviour on Python 3.7. Please monkey-patch earlier. See https://github.com/gevent/gevent/issues/1016. Modules that had direct imports (NOT patched): ['urllib3.util.ssl_ (/opt/amazon/lib/python3.7/site-packages/urllib3/util/ssl_.py)', 'urllib3.util (/opt/amazon/lib/python3.7/site-packages/urllib3/util/__init__.py)']. \n",
      "  monkey.patch_all(subprocess=True)\u001b[0m\n",
      "\u001b[34m[2021-08-12:10:14:52:INFO] Model loaded successfully for worker : 21\u001b[0m\n",
      "\u001b[34m[2021-08-12 10:14:52 +0000] [22] [INFO] Booting worker with pid: 22\u001b[0m\n",
      "\u001b[34m[2021-08-12 10:14:52 +0000] [23] [INFO] Booting worker with pid: 23\u001b[0m\n",
      "\u001b[34m/opt/amazon/lib/python3.7/site-packages/gunicorn/workers/ggevent.py:65: MonkeyPatchWarning: Monkey-patching ssl after ssl has already been imported may lead to errors, including RecursionError on Python 3.6. It may also silently lead to incorrect behaviour on Python 3.7. Please monkey-patch earlier. See https://github.com/gevent/gevent/issues/1016. Modules that had direct imports (NOT patched): ['urllib3.util.ssl_ (/opt/amazon/lib/python3.7/site-packages/urllib3/util/ssl_.py)', 'urllib3.util (/opt/amazon/lib/python3.7/site-packages/urllib3/util/__init__.py)']. \n",
      "  monkey.patch_all(subprocess=True)\u001b[0m\n",
      "\u001b[34m[2021-08-12:10:14:52:INFO] Model loaded successfully for worker : 22\u001b[0m\n",
      "\u001b[34m/opt/amazon/lib/python3.7/site-packages/gunicorn/workers/ggevent.py:65: MonkeyPatchWarning: Monkey-patching ssl after ssl has already been imported may lead to errors, including RecursionError on Python 3.6. It may also silently lead to incorrect behaviour on Python 3.7. Please monkey-patch earlier. See https://github.com/gevent/gevent/issues/1016. Modules that had direct imports (NOT patched): ['urllib3.util.ssl_ (/opt/amazon/lib/python3.7/site-packages/urllib3/util/ssl_.py)', 'urllib3.util (/opt/amazon/lib/python3.7/site-packages/urllib3/util/__init__.py)']. \n",
      "  monkey.patch_all(subprocess=True)\u001b[0m\n",
      "\u001b[34m[2021-08-12:10:14:52:INFO] Model loaded successfully for worker : 23\u001b[0m\n",
      "\u001b[35m[2021-08-12 10:14:52 +0000] [21] [INFO] Booting worker with pid: 21\u001b[0m\n",
      "\u001b[35m[2021-08-12:10:14:52:INFO] Model loaded successfully for worker : 20\u001b[0m\n",
      "\u001b[35m/opt/amazon/lib/python3.7/site-packages/gunicorn/workers/ggevent.py:65: MonkeyPatchWarning: Monkey-patching ssl after ssl has already been imported may lead to errors, including RecursionError on Python 3.6. It may also silently lead to incorrect behaviour on Python 3.7. Please monkey-patch earlier. See https://github.com/gevent/gevent/issues/1016. Modules that had direct imports (NOT patched): ['urllib3.util.ssl_ (/opt/amazon/lib/python3.7/site-packages/urllib3/util/ssl_.py)', 'urllib3.util (/opt/amazon/lib/python3.7/site-packages/urllib3/util/__init__.py)']. \n",
      "  monkey.patch_all(subprocess=True)\u001b[0m\n",
      "\u001b[35m[2021-08-12:10:14:52:INFO] Model loaded successfully for worker : 21\u001b[0m\n",
      "\u001b[35m[2021-08-12 10:14:52 +0000] [22] [INFO] Booting worker with pid: 22\u001b[0m\n",
      "\u001b[35m[2021-08-12 10:14:52 +0000] [23] [INFO] Booting worker with pid: 23\u001b[0m\n",
      "\u001b[35m/opt/amazon/lib/python3.7/site-packages/gunicorn/workers/ggevent.py:65: MonkeyPatchWarning: Monkey-patching ssl after ssl has already been imported may lead to errors, including RecursionError on Python 3.6. It may also silently lead to incorrect behaviour on Python 3.7. Please monkey-patch earlier. See https://github.com/gevent/gevent/issues/1016. Modules that had direct imports (NOT patched): ['urllib3.util.ssl_ (/opt/amazon/lib/python3.7/site-packages/urllib3/util/ssl_.py)', 'urllib3.util (/opt/amazon/lib/python3.7/site-packages/urllib3/util/__init__.py)']. \n",
      "  monkey.patch_all(subprocess=True)\u001b[0m\n",
      "\u001b[35m[2021-08-12:10:14:52:INFO] Model loaded successfully for worker : 22\u001b[0m\n",
      "\u001b[35m/opt/amazon/lib/python3.7/site-packages/gunicorn/workers/ggevent.py:65: MonkeyPatchWarning: Monkey-patching ssl after ssl has already been imported may lead to errors, including RecursionError on Python 3.6. It may also silently lead to incorrect behaviour on Python 3.7. Please monkey-patch earlier. See https://github.com/gevent/gevent/issues/1016. Modules that had direct imports (NOT patched): ['urllib3.util.ssl_ (/opt/amazon/lib/python3.7/site-packages/urllib3/util/ssl_.py)', 'urllib3.util (/opt/amazon/lib/python3.7/site-packages/urllib3/util/__init__.py)']. \n",
      "  monkey.patch_all(subprocess=True)\u001b[0m\n",
      "\u001b[35m[2021-08-12:10:14:52:INFO] Model loaded successfully for worker : 23\u001b[0m\n",
      "\u001b[32m2021-08-12T10:14:56.507:[sagemaker logs]: MaxConcurrentTransforms=4, MaxPayloadInMB=6, BatchStrategy=MULTI_RECORD\u001b[0m\n",
      "\u001b[34m[2021-08-12:10:14:59:INFO] Sniff delimiter as ','\u001b[0m\n",
      "\u001b[34m[2021-08-12:10:14:59:INFO] Determined delimiter of CSV input is ','\u001b[0m\n",
      "\u001b[34m[2021-08-12:10:14:59:INFO] Sniff delimiter as ','\u001b[0m\n",
      "\u001b[34m[2021-08-12:10:14:59:INFO] Determined delimiter of CSV input is ','\u001b[0m\n",
      "\u001b[34m[2021-08-12:10:14:59:INFO] Sniff delimiter as ','\u001b[0m\n",
      "\u001b[34m[2021-08-12:10:14:59:INFO] Determined delimiter of CSV input is ','\u001b[0m\n",
      "\u001b[34m[2021-08-12:10:14:59:INFO] Sniff delimiter as ','\u001b[0m\n",
      "\u001b[34m[2021-08-12:10:14:59:INFO] Determined delimiter of CSV input is ','\u001b[0m\n",
      "\u001b[35m[2021-08-12:10:14:59:INFO] Sniff delimiter as ','\u001b[0m\n",
      "\u001b[35m[2021-08-12:10:14:59:INFO] Determined delimiter of CSV input is ','\u001b[0m\n",
      "\u001b[35m[2021-08-12:10:14:59:INFO] Sniff delimiter as ','\u001b[0m\n",
      "\u001b[35m[2021-08-12:10:14:59:INFO] Determined delimiter of CSV input is ','\u001b[0m\n",
      "\u001b[35m[2021-08-12:10:14:59:INFO] Sniff delimiter as ','\u001b[0m\n",
      "\u001b[35m[2021-08-12:10:14:59:INFO] Determined delimiter of CSV input is ','\u001b[0m\n",
      "\u001b[35m[2021-08-12:10:14:59:INFO] Sniff delimiter as ','\u001b[0m\n",
      "\u001b[35m[2021-08-12:10:14:59:INFO] Determined delimiter of CSV input is ','\u001b[0m\n",
      "\u001b[34m[2021-08-12:10:15:03:INFO] Sniff delimiter as ','\u001b[0m\n",
      "\u001b[34m[2021-08-12:10:15:03:INFO] Determined delimiter of CSV input is ','\u001b[0m\n",
      "\u001b[34m[2021-08-12:10:15:03:INFO] Sniff delimiter as ','\u001b[0m\n",
      "\u001b[34m[2021-08-12:10:15:03:INFO] Determined delimiter of CSV input is ','\u001b[0m\n",
      "\u001b[34m[2021-08-12:10:15:03:INFO] Sniff delimiter as ','\u001b[0m\n",
      "\u001b[34m[2021-08-12:10:15:03:INFO] Determined delimiter of CSV input is ','\u001b[0m\n",
      "\u001b[34m[2021-08-12:10:15:03:INFO] Sniff delimiter as ','\u001b[0m\n",
      "\u001b[34m[2021-08-12:10:15:03:INFO] Determined delimiter of CSV input is ','\u001b[0m\n",
      "\u001b[35m[2021-08-12:10:15:03:INFO] Sniff delimiter as ','\u001b[0m\n",
      "\u001b[35m[2021-08-12:10:15:03:INFO] Determined delimiter of CSV input is ','\u001b[0m\n",
      "\u001b[35m[2021-08-12:10:15:03:INFO] Sniff delimiter as ','\u001b[0m\n",
      "\u001b[35m[2021-08-12:10:15:03:INFO] Determined delimiter of CSV input is ','\u001b[0m\n",
      "\u001b[35m[2021-08-12:10:15:03:INFO] Sniff delimiter as ','\u001b[0m\n",
      "\u001b[35m[2021-08-12:10:15:03:INFO] Determined delimiter of CSV input is ','\u001b[0m\n",
      "\u001b[35m[2021-08-12:10:15:03:INFO] Sniff delimiter as ','\u001b[0m\n",
      "\u001b[35m[2021-08-12:10:15:03:INFO] Determined delimiter of CSV input is ','\u001b[0m\n",
      "\u001b[34m[2021-08-12:10:15:10:INFO] Sniff delimiter as ','\u001b[0m\n",
      "\u001b[34m[2021-08-12:10:15:10:INFO] Determined delimiter of CSV input is ','\u001b[0m\n",
      "\u001b[34m[2021-08-12:10:15:11:INFO] Sniff delimiter as ','\u001b[0m\n",
      "\u001b[34m[2021-08-12:10:15:11:INFO] Determined delimiter of CSV input is ','\u001b[0m\n",
      "\u001b[35m[2021-08-12:10:15:10:INFO] Sniff delimiter as ','\u001b[0m\n",
      "\u001b[35m[2021-08-12:10:15:10:INFO] Determined delimiter of CSV input is ','\u001b[0m\n",
      "\u001b[35m[2021-08-12:10:15:11:INFO] Sniff delimiter as ','\u001b[0m\n",
      "\u001b[35m[2021-08-12:10:15:11:INFO] Determined delimiter of CSV input is ','\u001b[0m\n",
      "\u001b[34m[2021-08-12:10:15:14:INFO] Sniff delimiter as ','\u001b[0m\n",
      "\u001b[34m[2021-08-12:10:15:14:INFO] Determined delimiter of CSV input is ','\u001b[0m\n",
      "\u001b[34m[2021-08-12:10:15:14:INFO] Sniff delimiter as ','\u001b[0m\n",
      "\u001b[34m[2021-08-12:10:15:14:INFO] Determined delimiter of CSV input is ','\u001b[0m\n",
      "\u001b[34m[2021-08-12:10:15:14:INFO] Sniff delimiter as ','\u001b[0m\n",
      "\u001b[34m[2021-08-12:10:15:14:INFO] Determined delimiter of CSV input is ','\u001b[0m\n",
      "\u001b[35m[2021-08-12:10:15:14:INFO] Sniff delimiter as ','\u001b[0m\n",
      "\u001b[35m[2021-08-12:10:15:14:INFO] Determined delimiter of CSV input is ','\u001b[0m\n",
      "\u001b[35m[2021-08-12:10:15:14:INFO] Sniff delimiter as ','\u001b[0m\n",
      "\u001b[35m[2021-08-12:10:15:14:INFO] Determined delimiter of CSV input is ','\u001b[0m\n",
      "\u001b[35m[2021-08-12:10:15:14:INFO] Sniff delimiter as ','\u001b[0m\n",
      "\u001b[35m[2021-08-12:10:15:14:INFO] Determined delimiter of CSV input is ','\u001b[0m\n",
      "\u001b[34m[2021-08-12:10:15:15:INFO] Sniff delimiter as ','\u001b[0m\n",
      "\u001b[34m[2021-08-12:10:15:15:INFO] Determined delimiter of CSV input is ','\u001b[0m\n",
      "\u001b[35m[2021-08-12:10:15:15:INFO] Sniff delimiter as ','\u001b[0m\n",
      "\u001b[35m[2021-08-12:10:15:15:INFO] Determined delimiter of CSV input is ','\u001b[0m\n",
      "\u001b[34m[2021-08-12:10:15:18:INFO] Sniff delimiter as ','\u001b[0m\n",
      "\u001b[34m[2021-08-12:10:15:18:INFO] Determined delimiter of CSV input is ','\u001b[0m\n",
      "\u001b[34m[2021-08-12:10:15:18:INFO] Sniff delimiter as ','\u001b[0m\n",
      "\u001b[34m[2021-08-12:10:15:18:INFO] Determined delimiter of CSV input is ','\u001b[0m\n",
      "\u001b[34m[2021-08-12:10:15:18:INFO] Sniff delimiter as ','\u001b[0m\n",
      "\u001b[34m[2021-08-12:10:15:18:INFO] Determined delimiter of CSV input is ','\u001b[0m\n",
      "\u001b[34m[2021-08-12:10:15:19:INFO] Sniff delimiter as ','\u001b[0m\n",
      "\u001b[34m[2021-08-12:10:15:19:INFO] Determined delimiter of CSV input is ','\u001b[0m\n",
      "\u001b[35m[2021-08-12:10:15:18:INFO] Sniff delimiter as ','\u001b[0m\n",
      "\u001b[35m[2021-08-12:10:15:18:INFO] Determined delimiter of CSV input is ','\u001b[0m\n",
      "\u001b[35m[2021-08-12:10:15:18:INFO] Sniff delimiter as ','\u001b[0m\n",
      "\u001b[35m[2021-08-12:10:15:18:INFO] Determined delimiter of CSV input is ','\u001b[0m\n",
      "\u001b[35m[2021-08-12:10:15:18:INFO] Sniff delimiter as ','\u001b[0m\n",
      "\u001b[35m[2021-08-12:10:15:18:INFO] Determined delimiter of CSV input is ','\u001b[0m\n",
      "\u001b[35m[2021-08-12:10:15:19:INFO] Sniff delimiter as ','\u001b[0m\n",
      "\u001b[35m[2021-08-12:10:15:19:INFO] Determined delimiter of CSV input is ','\u001b[0m\n",
      "\u001b[34m[2021-08-12:10:15:22:INFO] Sniff delimiter as ','\u001b[0m\n",
      "\u001b[35m[2021-08-12:10:15:22:INFO] Sniff delimiter as ','\u001b[0m\n",
      "\u001b[34m[2021-08-12:10:15:22:INFO] Determined delimiter of CSV input is ','\u001b[0m\n",
      "\u001b[34m[2021-08-12:10:15:22:INFO] Sniff delimiter as ','\u001b[0m\n",
      "\u001b[34m[2021-08-12:10:15:22:INFO] Determined delimiter of CSV input is ','\u001b[0m\n",
      "\u001b[34m[2021-08-12:10:15:22:INFO] Sniff delimiter as ','\u001b[0m\n",
      "\u001b[34m[2021-08-12:10:15:22:INFO] Determined delimiter of CSV input is ','\u001b[0m\n",
      "\u001b[34m[2021-08-12:10:15:22:INFO] Sniff delimiter as ','\u001b[0m\n",
      "\u001b[34m[2021-08-12:10:15:22:INFO] Determined delimiter of CSV input is ','\u001b[0m\n",
      "\u001b[35m[2021-08-12:10:15:22:INFO] Determined delimiter of CSV input is ','\u001b[0m\n",
      "\u001b[35m[2021-08-12:10:15:22:INFO] Sniff delimiter as ','\u001b[0m\n",
      "\u001b[35m[2021-08-12:10:15:22:INFO] Determined delimiter of CSV input is ','\u001b[0m\n",
      "\u001b[35m[2021-08-12:10:15:22:INFO] Sniff delimiter as ','\u001b[0m\n",
      "\u001b[35m[2021-08-12:10:15:22:INFO] Determined delimiter of CSV input is ','\u001b[0m\n",
      "\u001b[35m[2021-08-12:10:15:22:INFO] Sniff delimiter as ','\u001b[0m\n",
      "\u001b[35m[2021-08-12:10:15:22:INFO] Determined delimiter of CSV input is ','\u001b[0m\n",
      "\u001b[34m[2021-08-12:10:15:26:INFO] Determined delimiter of CSV input is ','\u001b[0m\n",
      "\u001b[35m[2021-08-12:10:15:26:INFO] Determined delimiter of CSV input is ','\u001b[0m\n",
      "\u001b[34m[2021-08-12:10:15:29:INFO] Sniff delimiter as ','\u001b[0m\n",
      "\u001b[34m[2021-08-12:10:15:29:INFO] Determined delimiter of CSV input is ','\u001b[0m\n",
      "\u001b[34m[2021-08-12:10:15:30:INFO] Sniff delimiter as ','\u001b[0m\n",
      "\u001b[34m[2021-08-12:10:15:30:INFO] Determined delimiter of CSV input is ','\u001b[0m\n",
      "\u001b[35m[2021-08-12:10:15:29:INFO] Sniff delimiter as ','\u001b[0m\n",
      "\u001b[35m[2021-08-12:10:15:29:INFO] Determined delimiter of CSV input is ','\u001b[0m\n",
      "\u001b[35m[2021-08-12:10:15:30:INFO] Sniff delimiter as ','\u001b[0m\n",
      "\u001b[35m[2021-08-12:10:15:30:INFO] Determined delimiter of CSV input is ','\u001b[0m\n",
      "\u001b[34m[2021-08-12:10:15:30:INFO] Sniff delimiter as ','\u001b[0m\n",
      "\u001b[34m[2021-08-12:10:15:30:INFO] Determined delimiter of CSV input is ','\u001b[0m\n",
      "\u001b[34m[2021-08-12:10:15:30:INFO] Sniff delimiter as ','\u001b[0m\n",
      "\u001b[34m[2021-08-12:10:15:30:INFO] Determined delimiter of CSV input is ','\u001b[0m\n",
      "\u001b[35m[2021-08-12:10:15:30:INFO] Sniff delimiter as ','\u001b[0m\n",
      "\u001b[35m[2021-08-12:10:15:30:INFO] Determined delimiter of CSV input is ','\u001b[0m\n",
      "\u001b[35m[2021-08-12:10:15:30:INFO] Sniff delimiter as ','\u001b[0m\n",
      "\u001b[35m[2021-08-12:10:15:30:INFO] Determined delimiter of CSV input is ','\u001b[0m\n",
      "\u001b[34m[2021-08-12:10:15:33:INFO] Sniff delimiter as ','\u001b[0m\n",
      "\u001b[34m[2021-08-12:10:15:33:INFO] Determined delimiter of CSV input is ','\u001b[0m\n",
      "\u001b[34m[2021-08-12:10:15:33:INFO] Sniff delimiter as ','\u001b[0m\n",
      "\u001b[34m[2021-08-12:10:15:33:INFO] Determined delimiter of CSV input is ','\u001b[0m\n",
      "\u001b[34m[2021-08-12:10:15:33:INFO] Sniff delimiter as ','\u001b[0m\n",
      "\u001b[34m[2021-08-12:10:15:33:INFO] Determined delimiter of CSV input is ','\u001b[0m\n",
      "\u001b[35m[2021-08-12:10:15:33:INFO] Sniff delimiter as ','\u001b[0m\n",
      "\u001b[35m[2021-08-12:10:15:33:INFO] Determined delimiter of CSV input is ','\u001b[0m\n",
      "\u001b[35m[2021-08-12:10:15:33:INFO] Sniff delimiter as ','\u001b[0m\n",
      "\u001b[35m[2021-08-12:10:15:33:INFO] Determined delimiter of CSV input is ','\u001b[0m\n",
      "\u001b[35m[2021-08-12:10:15:33:INFO] Sniff delimiter as ','\u001b[0m\n",
      "\u001b[35m[2021-08-12:10:15:33:INFO] Determined delimiter of CSV input is ','\u001b[0m\n",
      "\u001b[34m[2021-08-12:10:15:34:INFO] Sniff delimiter as ','\u001b[0m\n",
      "\u001b[34m[2021-08-12:10:15:34:INFO] Determined delimiter of CSV input is ','\u001b[0m\n",
      "\u001b[35m[2021-08-12:10:15:34:INFO] Sniff delimiter as ','\u001b[0m\n",
      "\u001b[35m[2021-08-12:10:15:34:INFO] Determined delimiter of CSV input is ','\u001b[0m\n",
      "\n"
     ]
    }
   ],
   "source": [
    "xgb_transformer.wait()"
   ]
  },
  {
   "cell_type": "markdown",
   "metadata": {},
   "source": [
    "Currently the transform job is running but it is doing so in the background. Since we wish to wait until the transform job is done and we would like a bit of feedback we can run the `wait()` method."
   ]
  },
  {
   "cell_type": "code",
   "execution_count": null,
   "metadata": {},
   "outputs": [],
   "source": [
    "xgb_transformer.wait()"
   ]
  },
  {
   "cell_type": "markdown",
   "metadata": {},
   "source": [
    "Now the transform job has executed and the result, the estimated sentiment of each review, has been saved on S3. Since we would rather work on this file locally we can perform a bit of notebook magic to copy the file to the `data_dir`."
   ]
  },
  {
   "cell_type": "code",
   "execution_count": null,
   "metadata": {},
   "outputs": [],
   "source": [
    "!aws s3 cp --recursive $xgb_transformer.output_path  $data_dir"
   ]
  },
  {
   "cell_type": "code",
   "execution_count": null,
   "metadata": {},
   "outputs": [],
   "source": []
  },
  {
   "cell_type": "code",
   "execution_count": null,
   "metadata": {},
   "outputs": [],
   "source": []
  },
  {
   "cell_type": "code",
   "execution_count": null,
   "metadata": {},
   "outputs": [],
   "source": []
  },
  {
   "cell_type": "code",
   "execution_count": null,
   "metadata": {},
   "outputs": [],
   "source": [
    "!aws s3 cp --recursive $xgb_transformer.output_path $data_dir"
   ]
  },
  {
   "cell_type": "markdown",
   "metadata": {},
   "source": [
    "The last step is now to read in the output from our model, convert the output to something a little more usable, in this case we want the sentiment to be either `1` (positive) or `0` (negative), and then compare to the ground truth labels."
   ]
  },
  {
   "cell_type": "code",
   "execution_count": null,
   "metadata": {},
   "outputs": [],
   "source": [
    "predictions = pd.read_csv(os.path.join(data_dir, 'test.csv.out'), header=None)\n",
    "predictions = [round(num) for num in predictions.squeeze().values]"
   ]
  },
  {
   "cell_type": "code",
   "execution_count": null,
   "metadata": {},
   "outputs": [],
   "source": [
    "from sklearn.metrics import accuracy_score\n",
    "accuracy_score(test_y, predictions)"
   ]
  },
  {
   "cell_type": "markdown",
   "metadata": {},
   "source": [
    "## Optional: Clean up\n",
    "\n",
    "The default notebook instance on SageMaker doesn't have a lot of excess disk space available. As you continue to complete and execute notebooks you will eventually fill up this disk space, leading to errors which can be difficult to diagnose. Once you are completely finished using a notebook it is a good idea to remove the files that you created along the way. Of course, you can do this from the terminal or from the notebook hub if you would like. The cell below contains some commands to clean up the created files from within the notebook."
   ]
  },
  {
   "cell_type": "code",
   "execution_count": null,
   "metadata": {},
   "outputs": [],
   "source": [
    "# First we will remove all of the files contained in the data_dir directory\n",
    "!rm $data_dir/*\n",
    "\n",
    "# And then we delete the directory itself\n",
    "!rmdir $data_dir\n",
    "\n",
    "# Similarly we will remove the files in the cache_dir directory and the directory itself\n",
    "!rm $cache_dir/*\n",
    "!rmdir $cache_dir"
   ]
  },
  {
   "cell_type": "code",
   "execution_count": null,
   "metadata": {},
   "outputs": [],
   "source": []
  }
 ],
 "metadata": {
  "kernelspec": {
   "display_name": "conda_python3",
   "language": "python",
   "name": "conda_python3"
  },
  "language_info": {
   "codemirror_mode": {
    "name": "ipython",
    "version": 3
   },
   "file_extension": ".py",
   "mimetype": "text/x-python",
   "name": "python",
   "nbconvert_exporter": "python",
   "pygments_lexer": "ipython3",
   "version": "3.6.13"
  }
 },
 "nbformat": 4,
 "nbformat_minor": 4
}
